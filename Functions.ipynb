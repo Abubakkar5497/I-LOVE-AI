{
 "cells": [
  {
   "cell_type": "markdown",
   "id": "d9abbf6f-d7f7-4503-a187-b707b4f20cad",
   "metadata": {},
   "source": [
    "# Loops"
   ]
  },
  {
   "cell_type": "code",
   "execution_count": 1,
   "id": "ed13f7fb-fa78-4c54-b1cb-faea3c306f9a",
   "metadata": {},
   "outputs": [
    {
     "name": "stdout",
     "output_type": "stream",
     "text": [
      "range(1, 5)\n",
      "1\n",
      "2\n",
      "3\n",
      "4\n"
     ]
    }
   ],
   "source": [
    "# traverse thru range\n",
    "\n",
    "a = range(1,5)\n",
    "print(a)\n",
    "\n",
    "for i in a:\n",
    "    print(i)"
   ]
  },
  {
   "cell_type": "code",
   "execution_count": 3,
   "id": "3aea8995-7871-4836-a272-1a789b5a72f1",
   "metadata": {},
   "outputs": [
    {
     "name": "stdout",
     "output_type": "stream",
     "text": [
      "range(3, 9)\n",
      "3\n",
      "4\n",
      "5\n",
      "6\n",
      "7\n",
      "8\n"
     ]
    }
   ],
   "source": [
    "b = range(3,9)\n",
    "print(b)\n",
    "for i in b:\n",
    "    print(i)"
   ]
  },
  {
   "cell_type": "code",
   "execution_count": 4,
   "id": "f46a038c-b85c-4b63-8f90-ada6ed7cf6b8",
   "metadata": {},
   "outputs": [
    {
     "name": "stdout",
     "output_type": "stream",
     "text": [
      "['abu', 'parveen', 'ayesha', 'hakim'] <class 'list'>\n",
      "abu\n",
      "parveen\n",
      "ayesha\n",
      "hakim\n"
     ]
    }
   ],
   "source": [
    "# traverse the list\n",
    "a = ['abu','parveen','ayesha','hakim']\n",
    "print(a,type(a))\n",
    "for i in a:\n",
    "    print(i)"
   ]
  },
  {
   "cell_type": "code",
   "execution_count": 6,
   "id": "10a3d533-37ef-4fff-8a5e-5d81442697d4",
   "metadata": {},
   "outputs": [
    {
     "name": "stdout",
     "output_type": "stream",
     "text": [
      "range(1, 5)\n",
      "1\n",
      "2\n",
      "3\n",
      "4\n"
     ]
    }
   ],
   "source": [
    "a = range(1,5)\n",
    "print(a)\n",
    "for i in a:\n",
    "    print(i)"
   ]
  },
  {
   "cell_type": "code",
   "execution_count": 7,
   "id": "08c05331-20e6-43c2-b2bd-7739ddaea566",
   "metadata": {},
   "outputs": [
    {
     "name": "stdout",
     "output_type": "stream",
     "text": [
      "['abu', 'parveen', 'ayesha', 'hakim'] <class 'list'>\n",
      "abu\n",
      "parveen\n",
      "ayesha\n",
      "hakim\n"
     ]
    }
   ],
   "source": [
    "a = ['abu','parveen','ayesha','hakim']\n",
    "print(a,type(a))\n",
    "for i in a:\n",
    "    print(i)"
   ]
  },
  {
   "cell_type": "code",
   "execution_count": 8,
   "id": "7921b993-b468-45ad-a524-13347820f20d",
   "metadata": {},
   "outputs": [
    {
     "name": "stdout",
     "output_type": "stream",
     "text": [
      "ABU <class 'str'>\n",
      "A\n",
      "B\n",
      "U\n"
     ]
    }
   ],
   "source": [
    "# traverse the SET\n",
    "\n",
    "a = 'ABU'\n",
    "print(a,type(a))\n",
    "for i in a:\n",
    "    print(i)"
   ]
  },
  {
   "cell_type": "code",
   "execution_count": 9,
   "id": "fb12aec7-48f2-49d5-ae3f-a7d6e3817bf6",
   "metadata": {},
   "outputs": [
    {
     "name": "stdout",
     "output_type": "stream",
     "text": [
      "['abu', 'parveen', 'ayeshu', 'hakim'] <class 'list'>\n",
      "abu\n",
      "a\n",
      "b\n",
      "u\n",
      "parveen\n",
      "p\n",
      "a\n",
      "r\n",
      "v\n",
      "e\n",
      "e\n",
      "n\n",
      "ayeshu\n",
      "a\n",
      "y\n",
      "e\n",
      "s\n",
      "h\n",
      "u\n",
      "hakim\n",
      "h\n",
      "a\n",
      "k\n",
      "i\n",
      "m\n"
     ]
    }
   ],
   "source": [
    "# Nested for loops\n",
    "a = ['abu','parveen','ayeshu','hakim']\n",
    "print(a,type(a))\n",
    "for i in a:\n",
    "    print(i)\n",
    "    for j in i:\n",
    "        print(j)"
   ]
  },
  {
   "cell_type": "code",
   "execution_count": 10,
   "id": "407b50a6-de07-4bd1-a2d7-7ade15a4c1c3",
   "metadata": {},
   "outputs": [
    {
     "name": "stdout",
     "output_type": "stream",
     "text": [
      "['INDIA', 'PAK', 'Iran', 'America'] <class 'list'>\n",
      "INDIA\n",
      "I\n",
      "N\n",
      "D\n",
      "I\n",
      "A\n",
      "PAK\n",
      "P\n",
      "A\n",
      "K\n",
      "Iran\n",
      "I\n",
      "r\n",
      "a\n",
      "n\n",
      "America\n",
      "A\n",
      "m\n",
      "e\n",
      "r\n",
      "i\n",
      "c\n",
      "a\n"
     ]
    }
   ],
   "source": [
    "a =['INDIA','PAK','Iran','America']\n",
    "print(a,type(a))\n",
    "for i in a:\n",
    "    print(i)\n",
    "    for j in i:\n",
    "        print(j)"
   ]
  },
  {
   "cell_type": "code",
   "execution_count": 12,
   "id": "fc4e67b8-3274-46bc-990d-040d1999c788",
   "metadata": {},
   "outputs": [
    {
     "name": "stdout",
     "output_type": "stream",
     "text": [
      "('INDIA', 'PAK', 'Iran', 'America') <class 'tuple'>\n",
      "INDIA\n",
      "I\n",
      "N\n",
      "D\n",
      "I\n",
      "A\n",
      "PAK\n",
      "P\n",
      "A\n",
      "K\n",
      "Iran\n",
      "I\n",
      "r\n",
      "a\n",
      "n\n",
      "America\n",
      "A\n",
      "m\n",
      "e\n",
      "r\n",
      "i\n",
      "c\n",
      "a\n"
     ]
    }
   ],
   "source": [
    "# Traverse the tuple\n",
    "a =('INDIA','PAK','Iran','America')\n",
    "print(a,type(a))\n",
    "\n",
    "for i in a:\n",
    "    print(i)\n",
    "    for j in i:\n",
    "        print(j)"
   ]
  },
  {
   "cell_type": "code",
   "execution_count": 13,
   "id": "5ed45154-fe96-4f8c-a233-c03379119b62",
   "metadata": {},
   "outputs": [
    {
     "name": "stdout",
     "output_type": "stream",
     "text": [
      "{'America', 'INDIA', 'PAK', 'Iran'} <class 'set'>\n",
      "America\n",
      "A\n",
      "m\n",
      "e\n",
      "r\n",
      "i\n",
      "c\n",
      "a\n",
      "INDIA\n",
      "I\n",
      "N\n",
      "D\n",
      "I\n",
      "A\n",
      "PAK\n",
      "P\n",
      "A\n",
      "K\n",
      "Iran\n",
      "I\n",
      "r\n",
      "a\n",
      "n\n"
     ]
    }
   ],
   "source": [
    "# Traverse the set\n",
    "a ={'INDIA','PAK','Iran','America'}\n",
    "print(a,type(a))\n",
    "\n",
    "for i in a:\n",
    "    print(i)\n",
    "    for j in i:\n",
    "        print(j)"
   ]
  },
  {
   "cell_type": "code",
   "execution_count": 14,
   "id": "71c71aea-9ddc-44a5-ac59-1da3d7894aed",
   "metadata": {},
   "outputs": [
    {
     "name": "stdout",
     "output_type": "stream",
     "text": [
      "{'INDIA': 2, 'PAK': 4, 'Iran': 3, 'America': 1} <class 'dict'>\n",
      "INDIA\n",
      "I\n",
      "N\n",
      "D\n",
      "I\n",
      "A\n",
      "PAK\n",
      "P\n",
      "A\n",
      "K\n",
      "Iran\n",
      "I\n",
      "r\n",
      "a\n",
      "n\n",
      "America\n",
      "A\n",
      "m\n",
      "e\n",
      "r\n",
      "i\n",
      "c\n",
      "a\n"
     ]
    }
   ],
   "source": [
    "# Traverse the Dic - key\n",
    "a ={'INDIA': 2,'PAK':4,'Iran':3,'America':1}\n",
    "print(a,type(a))\n",
    "for i in a:\n",
    "    print(i)\n",
    "    for j in i:\n",
    "        print(j)"
   ]
  },
  {
   "cell_type": "code",
   "execution_count": 16,
   "id": "b1bcbbe0-08a5-4adc-8adb-e82912afb8a0",
   "metadata": {},
   "outputs": [
    {
     "name": "stdout",
     "output_type": "stream",
     "text": [
      "{'INDIA': 2, 'PAK': 4, 'Iran': 3, 'America': 1} <class 'dict'>\n",
      "INDIA\n",
      "I\n",
      "N\n",
      "D\n",
      "I\n",
      "A\n",
      "PAK\n",
      "P\n",
      "A\n",
      "K\n",
      "Iran\n",
      "I\n",
      "r\n",
      "a\n",
      "n\n",
      "America\n",
      "A\n",
      "m\n",
      "e\n",
      "r\n",
      "i\n",
      "c\n",
      "a\n"
     ]
    }
   ],
   "source": [
    "a ={'INDIA': 2,'PAK':4,'Iran':3,'America':1}\n",
    "print(a,type(a))\n",
    "for i in a.keys():\n",
    "    print(i)\n",
    "    for j in i:\n",
    "        print(j)"
   ]
  },
  {
   "cell_type": "code",
   "execution_count": 20,
   "id": "fab009d7-6f58-4ced-8674-9800e3c2e38e",
   "metadata": {},
   "outputs": [
    {
     "name": "stdout",
     "output_type": "stream",
     "text": [
      "{'INDIA': 2, 'PAK': 4, 'Iran': 3, 'America': 1} <class 'dict'>\n",
      "('INDIA', 2)\n",
      "INDIA\n",
      "2\n",
      "('PAK', 4)\n",
      "PAK\n",
      "4\n",
      "('Iran', 3)\n",
      "Iran\n",
      "3\n",
      "('America', 1)\n",
      "America\n",
      "1\n"
     ]
    }
   ],
   "source": [
    "a ={'INDIA': 2,'PAK':4,'Iran':3,'America':1}\n",
    "print(a,type(a))\n",
    "for i in a.items():\n",
    "    print(i)\n",
    "    for j in i:\n",
    "        print(j)"
   ]
  },
  {
   "cell_type": "code",
   "execution_count": 4,
   "id": "4a0f4eea-8770-49eb-8755-202857447b17",
   "metadata": {},
   "outputs": [
    {
     "name": "stdout",
     "output_type": "stream",
     "text": [
      "{'INDIA': 23, 'PAK': 4, 'Iran': 3, 'America': 1} <class 'dict'>\n",
      "23\n",
      "4\n",
      "3\n",
      "1\n"
     ]
    }
   ],
   "source": [
    "a ={'INDIA': 2,'PAK':4,'Iran':3,'America':1}\n",
    "print(a,type(a))\n",
    "for i in a.values():\n",
    "    print(i)"
   ]
  },
  {
   "cell_type": "markdown",
   "id": "d7bc9ce5-3f48-47fb-b7d0-ce73037754cc",
   "metadata": {},
   "source": [
    "# While Loops"
   ]
  },
  {
   "cell_type": "code",
   "execution_count": 1,
   "id": "01617bd0-3885-4587-82a2-defd365a188d",
   "metadata": {},
   "outputs": [
    {
     "name": "stdout",
     "output_type": "stream",
     "text": [
      "1\n",
      "2\n",
      "3\n",
      "4\n"
     ]
    }
   ],
   "source": [
    "i = 1\n",
    "while i < 5:\n",
    "    print(i)\n",
    "    i = i + 1"
   ]
  },
  {
   "cell_type": "code",
   "execution_count": 2,
   "id": "992438c0-412a-452b-bcc8-efd14d7e49e0",
   "metadata": {},
   "outputs": [
    {
     "name": "stdout",
     "output_type": "stream",
     "text": [
      "2\n",
      "2\n",
      "2\n"
     ]
    }
   ],
   "source": [
    "# While loop with a List\n",
    "a = [1,2,3]\n",
    "i = 0\n",
    "while i <len(a):\n",
    "    print(a[1])\n",
    "    i = i +1"
   ]
  },
  {
   "cell_type": "code",
   "execution_count": 3,
   "id": "835d7c95-3a90-4961-bf5e-b36bc83b65ca",
   "metadata": {},
   "outputs": [
    {
     "data": {
      "text/plain": [
       "3"
      ]
     },
     "execution_count": 3,
     "metadata": {},
     "output_type": "execute_result"
    }
   ],
   "source": [
    "len(a)"
   ]
  },
  {
   "cell_type": "code",
   "execution_count": 1,
   "id": "7f48c45c-1132-4643-8f0d-52b8391833fc",
   "metadata": {},
   "outputs": [
    {
     "name": "stdout",
     "output_type": "stream",
     "text": [
      "0\n",
      "10\n",
      "20\n",
      "30\n",
      "40\n"
     ]
    }
   ],
   "source": [
    "a = 0\n",
    "while a < 50:\n",
    "    print(a)\n",
    "    a = a + 10"
   ]
  },
  {
   "cell_type": "code",
   "execution_count": 2,
   "id": "8c166b22-9d1c-49ed-acb9-87e605aa6165",
   "metadata": {},
   "outputs": [
    {
     "name": "stdout",
     "output_type": "stream",
     "text": [
      "500\n"
     ]
    }
   ],
   "source": [
    "a = 500\n",
    "while a <= 500:\n",
    "    print(a)\n",
    "    a = a + 1"
   ]
  },
  {
   "cell_type": "code",
   "execution_count": 3,
   "id": "a567ce7d-0ef7-44d0-9dd6-564770d5a52f",
   "metadata": {},
   "outputs": [
    {
     "name": "stdout",
     "output_type": "stream",
     "text": [
      "100\n",
      "200\n",
      "300\n",
      "400\n"
     ]
    }
   ],
   "source": [
    "a = 100\n",
    "while a < 500:\n",
    "    print(a)\n",
    "    a = a + 100"
   ]
  },
  {
   "cell_type": "code",
   "execution_count": 4,
   "id": "d2672b30-8033-4a6b-b8ee-09a99aca4b5b",
   "metadata": {},
   "outputs": [
    {
     "name": "stdout",
     "output_type": "stream",
     "text": [
      "1\n",
      "2\n",
      "3\n",
      "4\n"
     ]
    }
   ],
   "source": [
    "a = [1,2,3,4]\n",
    "i = 0\n",
    "while i <len(a):\n",
    "    print(a[i])\n",
    "    i = i +1"
   ]
  },
  {
   "cell_type": "code",
   "execution_count": 8,
   "id": "d8d3c0b5-43e0-468c-90a7-1129db92fdf9",
   "metadata": {},
   "outputs": [
    {
     "name": "stdout",
     "output_type": "stream",
     "text": [
      "10\n",
      "50\n"
     ]
    }
   ],
   "source": [
    "a = [10,20,30,60,40,50,0]\n",
    "i = 0\n",
    "while i < len(a):\n",
    "    print(a[i])\n",
    "    i = i + 5"
   ]
  },
  {
   "cell_type": "code",
   "execution_count": 7,
   "id": "fd32248f-e2eb-4bad-b768-813f1f41dfc4",
   "metadata": {},
   "outputs": [
    {
     "data": {
      "text/plain": [
       "7"
      ]
     },
     "execution_count": 7,
     "metadata": {},
     "output_type": "execute_result"
    }
   ],
   "source": [
    "len(a)"
   ]
  },
  {
   "cell_type": "code",
   "execution_count": 9,
   "id": "563ea36c-66bf-4f2a-93b2-178da945eae0",
   "metadata": {},
   "outputs": [
    {
     "name": "stdout",
     "output_type": "stream",
     "text": [
      "1\n",
      "2\n",
      "3\n"
     ]
    }
   ],
   "source": [
    "a = [1,2,3]\n",
    "print(a[0])\n",
    "print(a[1])\n",
    "print(a[2])"
   ]
  },
  {
   "cell_type": "code",
   "execution_count": 10,
   "id": "19f6e79b-fd58-488b-8e0d-6011652a0f76",
   "metadata": {},
   "outputs": [
    {
     "name": "stdout",
     "output_type": "stream",
     "text": [
      "1\n",
      "2\n",
      "3\n"
     ]
    }
   ],
   "source": [
    "a = [1,2,3]\n",
    "i = 0\n",
    "while i < len(a):\n",
    "    print(a[i])\n",
    "    i = i + 1"
   ]
  },
  {
   "cell_type": "code",
   "execution_count": 11,
   "id": "f653135b-fa66-454e-a78c-e2cc5ae32435",
   "metadata": {},
   "outputs": [
    {
     "name": "stdout",
     "output_type": "stream",
     "text": [
      "6\n"
     ]
    }
   ],
   "source": [
    "# Find sum of element values in this list\n",
    "a = [1,2,3]\n",
    "print(a[0]+a[1]+a[2])"
   ]
  },
  {
   "cell_type": "code",
   "execution_count": 12,
   "id": "f8f52270-299b-4930-a9a4-be6ea4e7627d",
   "metadata": {},
   "outputs": [
    {
     "name": "stdout",
     "output_type": "stream",
     "text": [
      "6\n"
     ]
    }
   ],
   "source": [
    "a = [1,2,3]\n",
    "print(1+2+3)"
   ]
  },
  {
   "cell_type": "code",
   "execution_count": 14,
   "id": "b11e8469-6528-45e1-a5e2-306db84a4128",
   "metadata": {},
   "outputs": [
    {
     "name": "stdout",
     "output_type": "stream",
     "text": [
      "i= 0 a[i]= 1 s= 0\n",
      "i= 1 end loop s= 1\n",
      "__________\n",
      "i= 1 a[i]= 2 s= 1\n",
      "i= 2 end loop s= 3\n",
      "__________\n",
      "i= 2 a[i]= 3 s= 3\n",
      "i= 3 end loop s= 6\n",
      "__________\n",
      "sum= 6\n"
     ]
    }
   ],
   "source": [
    "a = [1,2,3]\n",
    "i = 0\n",
    "s = 0\n",
    "while i < len(a):\n",
    "    print('i=',i,'a[i]=',a[i],'s=',s)\n",
    "    s = s+a[i]\n",
    "    i = i + 1\n",
    "    print('i=',i,'end loop s=',s)\n",
    "    print('_'*10)\n",
    "print('sum=',s)\n",
    "    "
   ]
  },
  {
   "cell_type": "code",
   "execution_count": 15,
   "id": "501efe3e-18a8-4362-b979-d4d7cb7c6f0e",
   "metadata": {},
   "outputs": [
    {
     "name": "stdout",
     "output_type": "stream",
     "text": [
      "i 0 a[i] 5 s 0\n",
      "i 1 end of loop 5\n",
      "____________________\n",
      "i 1 a[i] 6 s 5\n",
      "i 2 end of loop 11\n",
      "____________________\n",
      "i 2 a[i] 7 s 11\n",
      "i 3 end of loop 18\n",
      "____________________\n",
      "sum 18\n"
     ]
    }
   ],
   "source": [
    "a = [5,6,7]\n",
    "i = 0\n",
    "s = 0\n",
    "while i < len(a):\n",
    "    print('i',i,'a[i]',a[i],'s',s)\n",
    "    s = s+a[i]\n",
    "    i = i + 1\n",
    "    print('i',i,'end of loop',s)\n",
    "    print('_'*20)\n",
    "print('sum',s)    "
   ]
  },
  {
   "cell_type": "code",
   "execution_count": 16,
   "id": "0ca0ad05-8416-4199-872c-02489783a13a",
   "metadata": {},
   "outputs": [
    {
     "name": "stdout",
     "output_type": "stream",
     "text": [
      "[1, 2, 3, 4, 5, 6, 7] 7 <class 'list'>\n",
      "[1, 2, 4, 5, 6, 7]\n"
     ]
    }
   ],
   "source": [
    "# Remove value 3 from this List\n",
    "a = [1,2,3,4,5,6,7]\n",
    "print(a,len(a),type(a))\n",
    "\n",
    "i = 0\n",
    "while 3 in a:\n",
    "    a.remove(3)\n",
    "print(a)    "
   ]
  },
  {
   "cell_type": "code",
   "execution_count": 18,
   "id": "aba10fb5-59e5-48c6-929f-c009fa8e6e9f",
   "metadata": {},
   "outputs": [
    {
     "name": "stdout",
     "output_type": "stream",
     "text": [
      "[1, 2, 3, 4, 5, 6, 7] 7 <class 'list'>\n",
      "____________________\n",
      "[1, 2, 3, 4, 5, 6]\n"
     ]
    }
   ],
   "source": [
    "a = [1,2,3,4,5,6,7]\n",
    "print(a,len(a),type(a))\n",
    "\n",
    "i = 0\n",
    "while 7 in a:\n",
    "    a.remove(7)\n",
    "    print('_'*20)\n",
    "print(a)"
   ]
  },
  {
   "cell_type": "code",
   "execution_count": null,
   "id": "83e8ad14-cb23-4a35-b14a-c459514a2f87",
   "metadata": {},
   "outputs": [
    {
     "name": "stdout",
     "output_type": "stream",
     "text": [
      "300 Risk\n",
      "400 Risk\n",
      "500 Risk\n"
     ]
    }
   ],
   "source": [
    "# Print a rating as \"risk\" for tjosw who have score of less than 550\n",
    "cibil_score = [300,400,500,550,600,700]\n",
    "\n",
    "i = 0\n",
    "rating = ''\n",
    "listlen = len(cibil_score)\n",
    "\n",
    "while i < listlen:\n",
    "    if cibil_score[i]<550:\n",
    "        rating = 'Risk'\n",
    "        print(cibil_score[i], rating)\n",
    "        i = i + 1"
   ]
  },
  {
   "cell_type": "code",
   "execution_count": null,
   "id": "0bd156a6-0f36-4127-9872-75748f13d3ad",
   "metadata": {},
   "outputs": [],
   "source": [
    "print('Abu')"
   ]
  },
  {
   "cell_type": "code",
   "execution_count": null,
   "id": "2c11ef50-b081-476d-9da1-ec28d869551b",
   "metadata": {},
   "outputs": [],
   "source": [
    " rating = 'Risk'\n",
    "        print(cibil_score[i], rating)"
   ]
  },
  {
   "cell_type": "code",
   "execution_count": 2,
   "id": "80272a93-1e1d-404f-b367-1183e826142d",
   "metadata": {},
   "outputs": [
    {
     "name": "stdout",
     "output_type": "stream",
     "text": [
      "300 Risk\n",
      "400 Risk\n",
      "500 Risk\n",
      "550 Not Risky\n",
      "600 Not Risky\n",
      "700 Not Risky\n"
     ]
    }
   ],
   "source": [
    "cibil_score = [300,400,500,550,600,700]\n",
    "\n",
    "i = 0\n",
    "rating = \"\"\n",
    "listlen = len(cibil_score)\n",
    "\n",
    "while i < listlen:\n",
    "    if cibil_score[i]<550:\n",
    "        rating = \"Risk\"\n",
    "        print(cibil_score[i], rating)\n",
    "    else:\n",
    "        rating = \"Not Risky\"\n",
    "        print(cibil_score[i], rating)\n",
    "    i = i + 1"
   ]
  },
  {
   "cell_type": "code",
   "execution_count": 4,
   "id": "a3d14917-85da-449f-a3f7-a29c671911b9",
   "metadata": {},
   "outputs": [
    {
     "name": "stdout",
     "output_type": "stream",
     "text": [
      "300 Risk\n",
      "400 Risk\n",
      "500 Risk\n",
      "550 Average\n",
      "600 Average\n",
      "700 Good\n",
      "750 Excellent\n",
      "800 Excellent\n"
     ]
    }
   ],
   "source": [
    "cibil_score = [300,400,500,550,600,700,750,800]\n",
    "\n",
    "i = 0\n",
    "rating = \"\"\n",
    "listlen = len(cibil_score)\n",
    "\n",
    "while i < listlen:\n",
    "    if cibil_score[i]<550:\n",
    "        rating = \"Risk\"\n",
    "    elif cibil_score[i]< 650:\n",
    "        rating = \"Average\"\n",
    "    elif cibil_score[i]< 750:\n",
    "        rating = \"Good\"\n",
    "    else:\n",
    "        rating = \"Excellent\"\n",
    "        \n",
    "    print(cibil_score[i], rating)\n",
    "    i = i + 1"
   ]
  },
  {
   "cell_type": "code",
   "execution_count": 5,
   "id": "f62f9ef0-e61e-4039-a739-635880746da5",
   "metadata": {},
   "outputs": [
    {
     "name": "stdout",
     "output_type": "stream",
     "text": [
      "orginal: [725, 500, 300, 400, 525, 550, 600, 700, 750, 800]\n",
      "sorted: [300, 400, 500, 525, 550, 600, 700, 725, 750, 800]\n"
     ]
    }
   ],
   "source": [
    "cibil_score = [725,500,300,400,525,550,600,700,750,800]\n",
    "print('orginal:', cibil_score)\n",
    "cibil_score = sorted(cibil_score)\n",
    "print('sorted:',cibil_score)"
   ]
  },
  {
   "cell_type": "code",
   "execution_count": 11,
   "id": "831ea9bc-b622-45c9-b28f-42f75e80bfe5",
   "metadata": {},
   "outputs": [
    {
     "name": "stdout",
     "output_type": "stream",
     "text": [
      "orginal: [725, 500, 300, 400, 525, 550, 600, 700, 750, 800]\n",
      "sorted: [300, 400, 500, 525, 550, 600, 700, 725, 750, 800]\n",
      "10\n",
      "300 Risk\n",
      "400 Risk\n",
      "500 Risk\n",
      "525 Risk\n"
     ]
    }
   ],
   "source": [
    "cibil_score = [725,500,300,400,525,550,600,700,750,800]\n",
    "print('orginal:', cibil_score)\n",
    "cibil_score = sorted(cibil_score)\n",
    "print('sorted:',cibil_score)\n",
    "\n",
    "i = 0\n",
    "rating = \"\"\n",
    "listenlen = len(cibil_score)\n",
    "print(listenlen)\n",
    "\n",
    "while i < listenlen:\n",
    "    if cibil_score[i] >= 550:\n",
    "        break\n",
    "    else:\n",
    "         if cibil_score[i]<550:\n",
    "             rating = \"Risk\"\n",
    "         elif cibil_score[i]< 650:\n",
    "            rating = \"Average\"\n",
    "         elif cibil_score[i]< 750:\n",
    "            rating = \"Good\"\n",
    "         else:\n",
    "             rating = \"Excellent\"\n",
    "        \n",
    "         print(cibil_score[i], rating)\n",
    "         i = i + 1\n",
    "    "
   ]
  },
  {
   "cell_type": "code",
   "execution_count": 16,
   "id": "61f1680d-8cb2-4bf0-89da-2e43da9e21df",
   "metadata": {},
   "outputs": [
    {
     "name": "stdout",
     "output_type": "stream",
     "text": [
      "orginal: [725, 500, 300, 400, 525, 550, 600, 700, 750, 800]\n",
      "sorted: [300, 400, 500, 525, 550, 600, 700, 725, 750, 800]\n",
      "10\n",
      "300 Risk\n",
      "400 Risk\n",
      "500 Risk\n",
      "525 Risk\n"
     ]
    }
   ],
   "source": [
    "cibil_score = [725,500,300,400,525,550,600,700,750,800]\n",
    "print('orginal:', cibil_score)\n",
    "cibil_score = sorted(cibil_score)\n",
    "print('sorted:',cibil_score)\n",
    "\n",
    "i = 0\n",
    "rating = \"\"\n",
    "listenlen = len(cibil_score)\n",
    "print(listenlen)\n",
    "\n",
    "while i < listenlen:\n",
    "    if cibil_score[i] >= 550:\n",
    "        i = i + 1\n",
    "        continue\n",
    "        \n",
    "    if cibil_score[i]<550:\n",
    "        rating = \"Risk\"\n",
    "    elif cibil_score[i]< 650:\n",
    "        rating = \"Average\"\n",
    "    elif cibil_score[i]< 750:\n",
    "        rating = \"Good\"    \n",
    "    else:\n",
    "        rating = \"Excellent\" \n",
    "        \n",
    "    print(cibil_score[i], rating)\n",
    "    i = i + 1"
   ]
  },
  {
   "cell_type": "code",
   "execution_count": 17,
   "id": "da2af4fb-e4ae-444a-bc65-4baf8eedd69d",
   "metadata": {},
   "outputs": [
    {
     "name": "stdout",
     "output_type": "stream",
     "text": [
      "ABUBAKKAR\n"
     ]
    }
   ],
   "source": [
    "a = 'ABUBAKKAR'\n",
    "print(a)"
   ]
  },
  {
   "cell_type": "code",
   "execution_count": 18,
   "id": "4ba7218a-bccf-4b27-bb34-7f4809991f9b",
   "metadata": {},
   "outputs": [
    {
     "data": {
      "text/plain": [
       "str"
      ]
     },
     "execution_count": 18,
     "metadata": {},
     "output_type": "execute_result"
    }
   ],
   "source": [
    "type(a)"
   ]
  },
  {
   "cell_type": "code",
   "execution_count": 19,
   "id": "66c61792-ec51-4ae9-ae55-fb688ca7c0e8",
   "metadata": {},
   "outputs": [
    {
     "data": {
      "text/plain": [
       "9"
      ]
     },
     "execution_count": 19,
     "metadata": {},
     "output_type": "execute_result"
    }
   ],
   "source": [
    "len(a)"
   ]
  },
  {
   "cell_type": "code",
   "execution_count": 20,
   "id": "5d9ffab1-52ca-43b4-a2fd-41314708e253",
   "metadata": {},
   "outputs": [],
   "source": [
    "# UDF with no arugments and no return value\n",
    "def greetings():\n",
    "    print('Hello')"
   ]
  },
  {
   "cell_type": "code",
   "execution_count": 22,
   "id": "a32dfe70-bba0-459f-bfa2-49a31264bba2",
   "metadata": {},
   "outputs": [
    {
     "name": "stdout",
     "output_type": "stream",
     "text": [
      "Hello\n"
     ]
    }
   ],
   "source": [
    "greetings()"
   ]
  },
  {
   "cell_type": "code",
   "execution_count": 23,
   "id": "a519017d-ab7b-4c13-b308-4d9b7635f21e",
   "metadata": {},
   "outputs": [
    {
     "ename": "SyntaxError",
     "evalue": "invalid syntax (1389038829.py, line 1)",
     "output_type": "error",
     "traceback": [
      "\u001b[1;36m  Cell \u001b[1;32mIn[23], line 1\u001b[1;36m\u001b[0m\n\u001b[1;33m    def greetings('hello' + City)\u001b[0m\n\u001b[1;37m                  ^\u001b[0m\n\u001b[1;31mSyntaxError\u001b[0m\u001b[1;31m:\u001b[0m invalid syntax\n"
     ]
    }
   ],
   "source": [
    "def greetings('hello' + City)\n",
    "greetings('chennai')"
   ]
  },
  {
   "cell_type": "code",
   "execution_count": 25,
   "id": "3929a03f-d167-4604-bd58-5f2de2d1f0bf",
   "metadata": {},
   "outputs": [
    {
     "name": "stdout",
     "output_type": "stream",
     "text": [
      "Hello chennai\n"
     ]
    }
   ],
   "source": [
    "# 1- Parameter\n",
    "def greetings(name):\n",
    "    print('Hello ' + name)\n",
    "greetings('chennai')    \n",
    "    "
   ]
  },
  {
   "cell_type": "code",
   "execution_count": 29,
   "id": "6eb73c02-f6ce-42ae-90b2-28ea59701421",
   "metadata": {},
   "outputs": [
    {
     "name": "stdout",
     "output_type": "stream",
     "text": [
      "Name: Abubakkar\n"
     ]
    }
   ],
   "source": [
    "def greetings(Name):\n",
    "    print('Name: ' + Name)\n",
    "greetings('Abubakkar')    "
   ]
  },
  {
   "cell_type": "code",
   "execution_count": 30,
   "id": "423ad1f8-9078-48d7-9b37-0eb7e5e9d146",
   "metadata": {},
   "outputs": [
    {
     "name": "stdout",
     "output_type": "stream",
     "text": [
      "Name: Abu Parveen\n"
     ]
    }
   ],
   "source": [
    "greetings('Abu Parveen')"
   ]
  },
  {
   "cell_type": "code",
   "execution_count": 31,
   "id": "4806273b-a0b3-4c58-93d7-7012662aeb7b",
   "metadata": {},
   "outputs": [
    {
     "name": "stdout",
     "output_type": "stream",
     "text": [
      "Welcome Dhoni  and Kohli\n"
     ]
    }
   ],
   "source": [
    "# Multiple Parameter\n",
    "def greetings(fname,lname):\n",
    "    print('Welcome '+fname, ' and '+ lname)\n",
    "greetings('Dhoni','Kohli')    "
   ]
  },
  {
   "cell_type": "code",
   "execution_count": 32,
   "id": "9827aff4-0a7c-45cb-8fed-58f3cee06289",
   "metadata": {},
   "outputs": [],
   "source": [
    "# including return value\n",
    "\n",
    "def gross_sal(allowance, salary):\n",
    "    res = allowance + salary\n",
    "    return res\n",
    "    \n"
   ]
  },
  {
   "cell_type": "code",
   "execution_count": 33,
   "id": "e3e09f30-f44e-44ff-b8fa-0db3e8858b55",
   "metadata": {},
   "outputs": [
    {
     "data": {
      "text/plain": [
       "2500"
      ]
     },
     "execution_count": 33,
     "metadata": {},
     "output_type": "execute_result"
    }
   ],
   "source": [
    "gross_sal(500,2000)"
   ]
  },
  {
   "cell_type": "code",
   "execution_count": 35,
   "id": "40959521-4051-4e75-8a0c-6c61f6b7d40f",
   "metadata": {},
   "outputs": [
    {
     "name": "stdout",
     "output_type": "stream",
     "text": [
      "500 2000 2500\n"
     ]
    }
   ],
   "source": [
    "e_allow = 500\n",
    "e_sal = 2000\n",
    "e_gross = gross_sal(e_allow,e_sal)\n",
    "print(e_allow,e_sal,e_gross)"
   ]
  },
  {
   "cell_type": "code",
   "execution_count": 37,
   "id": "30fe40a1-aecd-4cab-980a-b4638d4a80a5",
   "metadata": {},
   "outputs": [
    {
     "name": "stdout",
     "output_type": "stream",
     "text": [
      "2500\n"
     ]
    }
   ],
   "source": [
    "print(gross_sal(e_allow,e_sal))"
   ]
  },
  {
   "cell_type": "code",
   "execution_count": 45,
   "id": "91583a53-82a3-43da-9581-51f5a799727c",
   "metadata": {},
   "outputs": [],
   "source": [
    "def gross_sal(allowance, salary):\n",
    "    res = allowance + salary\n",
    "    return res"
   ]
  },
  {
   "cell_type": "code",
   "execution_count": 46,
   "id": "e376c3d8-4ebd-49b9-a47e-5ec15bc313bc",
   "metadata": {},
   "outputs": [
    {
     "name": "stdout",
     "output_type": "stream",
     "text": [
      "500\n"
     ]
    }
   ],
   "source": [
    "result = gross_sal(200,300)\n",
    "print(result)"
   ]
  },
  {
   "cell_type": "code",
   "execution_count": 48,
   "id": "0ca6536d-a2c2-4c33-9781-f248fb158c48",
   "metadata": {},
   "outputs": [
    {
     "data": {
      "text/plain": [
       "500"
      ]
     },
     "execution_count": 48,
     "metadata": {},
     "output_type": "execute_result"
    }
   ],
   "source": [
    "\n",
    "def gross_sal(allowance, salary):\n",
    "    res = allowance + salary\n",
    "    return res\n",
    "\n",
    "gross_sal(200,300)"
   ]
  },
  {
   "cell_type": "code",
   "execution_count": 50,
   "id": "1b3e577b-1e49-44a4-9326-22d39540308f",
   "metadata": {},
   "outputs": [
    {
     "name": "stdout",
     "output_type": "stream",
     "text": [
      "700\n"
     ]
    }
   ],
   "source": [
    "def gross_sal(allowance, salary):\n",
    "    res = allowance + salary\n",
    "    return res\n",
    "result = gross_sal(500,200)  \n",
    "print(result)"
   ]
  },
  {
   "cell_type": "code",
   "execution_count": 53,
   "id": "64b97792-0819-444e-921f-e80fee10213f",
   "metadata": {},
   "outputs": [
    {
     "data": {
      "text/plain": [
       "('Abu', 'First Rank')"
      ]
     },
     "execution_count": 53,
     "metadata": {},
     "output_type": "execute_result"
    }
   ],
   "source": [
    "def Best_student(name,rank):\n",
    "    Class = name,rank\n",
    "    return Class\n",
    "\n",
    "Best_student('Abu','First Rank')"
   ]
  },
  {
   "cell_type": "code",
   "execution_count": 54,
   "id": "eecba151-457f-44e6-a1e1-bea7e26cdee7",
   "metadata": {},
   "outputs": [
    {
     "name": "stdout",
     "output_type": "stream",
     "text": [
      "allowance  500\n",
      "Salary  2000\n",
      "2500\n"
     ]
    }
   ],
   "source": [
    "def gross_sal(allowance,Salary):\n",
    "    print('allowance ',allowance)\n",
    "    print('Salary ',Salary)\n",
    "    res = allowance + Salary\n",
    "    return res\n",
    "\n",
    "Result = gross_sal(500,2000)\n",
    "print(Result)"
   ]
  },
  {
   "cell_type": "code",
   "execution_count": null,
   "id": "ccc10d29-0f7b-4314-929b-b458342b03d5",
   "metadata": {},
   "outputs": [],
   "source": []
  }
 ],
 "metadata": {
  "kernelspec": {
   "display_name": "Python 3 (ipykernel)",
   "language": "python",
   "name": "python3"
  },
  "language_info": {
   "codemirror_mode": {
    "name": "ipython",
    "version": 3
   },
   "file_extension": ".py",
   "mimetype": "text/x-python",
   "name": "python",
   "nbconvert_exporter": "python",
   "pygments_lexer": "ipython3",
   "version": "3.11.7"
  }
 },
 "nbformat": 4,
 "nbformat_minor": 5
}
