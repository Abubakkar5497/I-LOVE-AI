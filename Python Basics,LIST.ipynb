{
 "cells": [
  {
   "cell_type": "code",
   "execution_count": null,
   "id": "bee127b9-4537-41fe-a99f-d966a1085255",
   "metadata": {},
   "outputs": [],
   "source": [
    "# Identifiers\n",
    "name\n",
    "age\n",
    "gender\n",
    "a\n",
    "b\n",
    "c"
   ]
  },
  {
   "cell_type": "code",
   "execution_count": 1,
   "id": "d7a8d311-d7c9-4a1a-b754-872a5fb56a13",
   "metadata": {},
   "outputs": [
    {
     "ename": "SyntaxError",
     "evalue": "cannot assign to True (287632307.py, line 2)",
     "output_type": "error",
     "traceback": [
      "\u001b[1;36m  Cell \u001b[1;32mIn[1], line 2\u001b[1;36m\u001b[0m\n\u001b[1;33m    True = 1\u001b[0m\n\u001b[1;37m    ^\u001b[0m\n\u001b[1;31mSyntaxError\u001b[0m\u001b[1;31m:\u001b[0m cannot assign to True\n"
     ]
    }
   ],
   "source": [
    "# Keywords cannot be used as an identifier\n",
    "True = 1"
   ]
  },
  {
   "cell_type": "code",
   "execution_count": 2,
   "id": "c897a0c2-1ae7-4fde-a7a3-4a6531c92282",
   "metadata": {},
   "outputs": [
    {
     "name": "stderr",
     "output_type": "stream",
     "text": [
      "<>:2: SyntaxWarning: invalid decimal literal\n",
      "<>:2: SyntaxWarning: invalid decimal literal\n",
      "C:\\Users\\Knx3\\AppData\\Local\\Temp\\ipykernel_10612\\3985670583.py:2: SyntaxWarning: invalid decimal literal\n",
      "  2in1 = 'Abu'\n"
     ]
    },
    {
     "ename": "SyntaxError",
     "evalue": "invalid syntax (3985670583.py, line 2)",
     "output_type": "error",
     "traceback": [
      "\u001b[1;36m  Cell \u001b[1;32mIn[2], line 2\u001b[1;36m\u001b[0m\n\u001b[1;33m    2in1 = 'Abu'\u001b[0m\n\u001b[1;37m     ^\u001b[0m\n\u001b[1;31mSyntaxError\u001b[0m\u001b[1;31m:\u001b[0m invalid syntax\n"
     ]
    }
   ],
   "source": [
    "# Should not start with numbers\n",
    "2in1 = 'Abu'"
   ]
  },
  {
   "cell_type": "code",
   "execution_count": 3,
   "id": "7ca729e2-a829-466d-bc48-f802d22931d2",
   "metadata": {},
   "outputs": [
    {
     "ename": "SyntaxError",
     "evalue": "invalid syntax (3042223516.py, line 2)",
     "output_type": "error",
     "traceback": [
      "\u001b[1;36m  Cell \u001b[1;32mIn[3], line 2\u001b[1;36m\u001b[0m\n\u001b[1;33m    first name ='Abu'\u001b[0m\n\u001b[1;37m          ^\u001b[0m\n\u001b[1;31mSyntaxError\u001b[0m\u001b[1;31m:\u001b[0m invalid syntax\n"
     ]
    }
   ],
   "source": [
    "# no spaces(special characters) allowed in the identifier\n",
    "first name ='Abu'\n",
    "second name ='Parveen'"
   ]
  },
  {
   "cell_type": "code",
   "execution_count": 5,
   "id": "28bd4fc3-0757-4cc9-adf4-ca7932738372",
   "metadata": {},
   "outputs": [
    {
     "name": "stdout",
     "output_type": "stream",
     "text": [
      "Abu Parveen\n"
     ]
    }
   ],
   "source": [
    "first_name ='Abu'\n",
    "second_name ='Parveen'\n",
    "print(first_name, second_name)"
   ]
  },
  {
   "cell_type": "code",
   "execution_count": 6,
   "id": "28478755-8bad-4b5d-b98f-024272998c06",
   "metadata": {},
   "outputs": [],
   "source": [
    "item_2in1 = ('Abu')"
   ]
  },
  {
   "cell_type": "code",
   "execution_count": 7,
   "id": "6c26a7c2-a154-449d-b9ec-8e4869032598",
   "metadata": {},
   "outputs": [
    {
     "name": "stdout",
     "output_type": "stream",
     "text": [
      "Abu\n"
     ]
    }
   ],
   "source": [
    "print(item_2in1)"
   ]
  },
  {
   "cell_type": "code",
   "execution_count": 8,
   "id": "5cd92062-2cd1-41fd-9e3f-f706cd9bc158",
   "metadata": {},
   "outputs": [
    {
     "name": "stdout",
     "output_type": "stream",
     "text": [
      "Abu\n",
      "Parveen\n"
     ]
    }
   ],
   "source": [
    "Name ='Abu'\n",
    "name = 'Parveen'\n",
    "print(Name)\n",
    "print(name)"
   ]
  },
  {
   "cell_type": "code",
   "execution_count": 9,
   "id": "306fda7b-a014-4470-9ce5-b48b87d32a86",
   "metadata": {},
   "outputs": [
    {
     "name": "stdout",
     "output_type": "stream",
     "text": [
      "Parveen \n",
      " Abu\n"
     ]
    }
   ],
   "source": [
    "print(name,'\\n',Name)"
   ]
  },
  {
   "cell_type": "code",
   "execution_count": 11,
   "id": "ea6fe153-d2de-4b6f-9a74-ee0f26328a0c",
   "metadata": {},
   "outputs": [
    {
     "name": "stdout",
     "output_type": "stream",
     "text": [
      "Parveen \n",
      " Abu\n"
     ]
    }
   ],
   "source": [
    "print(name, '\\n' ,Name)"
   ]
  },
  {
   "cell_type": "code",
   "execution_count": 12,
   "id": "c912f617-af4c-4f07-8910-6517e380d1fc",
   "metadata": {},
   "outputs": [
    {
     "name": "stdout",
     "output_type": "stream",
     "text": [
      "Abu\n",
      "Parveen\n"
     ]
    }
   ],
   "source": [
    "print(Name,name,sep='\\n')"
   ]
  },
  {
   "cell_type": "code",
   "execution_count": 13,
   "id": "bd490816-3857-4bb5-bdd2-7ef1e98b32a8",
   "metadata": {},
   "outputs": [
    {
     "ename": "SyntaxError",
     "evalue": "unterminated string literal (detected at line 1) (713679399.py, line 1)",
     "output_type": "error",
     "traceback": [
      "\u001b[1;36m  Cell \u001b[1;32mIn[13], line 1\u001b[1;36m\u001b[0m\n\u001b[1;33m    print(Name,name,sep='n\\')\u001b[0m\n\u001b[1;37m                        ^\u001b[0m\n\u001b[1;31mSyntaxError\u001b[0m\u001b[1;31m:\u001b[0m unterminated string literal (detected at line 1)\n"
     ]
    }
   ],
   "source": [
    "print(Name,name,sep='n\\')"
   ]
  },
  {
   "cell_type": "code",
   "execution_count": 14,
   "id": "832e5888-3121-42f3-a9be-46f60915286a",
   "metadata": {},
   "outputs": [
    {
     "name": "stdout",
     "output_type": "stream",
     "text": [
      "Abu\n",
      "Parveen\n"
     ]
    }
   ],
   "source": [
    "print(Name,name,sep='\\n')"
   ]
  },
  {
   "cell_type": "code",
   "execution_count": 15,
   "id": "b42c1cce-6113-4b6a-a511-fff70a5f4313",
   "metadata": {},
   "outputs": [
    {
     "ename": "SyntaxError",
     "evalue": "invalid decimal literal (3708117255.py, line 2)",
     "output_type": "error",
     "traceback": [
      "\u001b[1;36m  Cell \u001b[1;32mIn[15], line 2\u001b[1;36m\u001b[0m\n\u001b[1;33m    01_street = 'Mount Road' = invalid\u001b[0m\n\u001b[1;37m      ^\u001b[0m\n\u001b[1;31mSyntaxError\u001b[0m\u001b[1;31m:\u001b[0m invalid decimal literal\n"
     ]
    }
   ],
   "source": [
    "# Excercise 1:\n",
    "01_street = 'Mount Road' = invalid\n",
    "print(01_street)"
   ]
  },
  {
   "cell_type": "code",
   "execution_count": 18,
   "id": "2c3cbc9e-78fd-4f25-bd68-f8165d6bab74",
   "metadata": {},
   "outputs": [
    {
     "name": "stdout",
     "output_type": "stream",
     "text": [
      "Mount Road\n"
     ]
    }
   ],
   "source": [
    "street_01 = 'Mount Road'\n",
    "print(street_01)"
   ]
  },
  {
   "cell_type": "code",
   "execution_count": 19,
   "id": "33688c12-d655-4e50-9c79-d8b8b84a7605",
   "metadata": {},
   "outputs": [
    {
     "name": "stdout",
     "output_type": "stream",
     "text": [
      "2024\n"
     ]
    }
   ],
   "source": [
    "year = 2024\n",
    "print(year)"
   ]
  },
  {
   "cell_type": "code",
   "execution_count": 20,
   "id": "c5abf546-e9a5-4d55-91f3-ee8f60556d11",
   "metadata": {},
   "outputs": [
    {
     "name": "stdout",
     "output_type": "stream",
     "text": [
      "we23\n"
     ]
    }
   ],
   "source": [
    "batch_code = 'we23'\n",
    "print(batch_code)"
   ]
  },
  {
   "cell_type": "code",
   "execution_count": 21,
   "id": "15426441-e523-4c30-acd2-a46d7e996351",
   "metadata": {},
   "outputs": [
    {
     "ename": "SyntaxError",
     "evalue": "cannot assign to expression (2480043985.py, line 1)",
     "output_type": "error",
     "traceback": [
      "\u001b[1;36m  Cell \u001b[1;32mIn[21], line 1\u001b[1;36m\u001b[0m\n\u001b[1;33m    mu-year-of-birth = 1997 = invalid\u001b[0m\n\u001b[1;37m    ^\u001b[0m\n\u001b[1;31mSyntaxError\u001b[0m\u001b[1;31m:\u001b[0m cannot assign to expression\n"
     ]
    }
   ],
   "source": [
    "mu-year-of-birth = 1997 = invalid\n",
    "print(mu-year-of-birth)"
   ]
  },
  {
   "cell_type": "code",
   "execution_count": 24,
   "id": "cc049671-a4ee-4a11-a50d-ab0d3180fc3e",
   "metadata": {},
   "outputs": [
    {
     "name": "stdout",
     "output_type": "stream",
     "text": [
      "1997\n"
     ]
    }
   ],
   "source": [
    "my_year_of_birth = 1997\n",
    "print(my_year_of_birth)"
   ]
  },
  {
   "cell_type": "code",
   "execution_count": 26,
   "id": "e00594a1-0e65-4d54-8829-bdc374bf8907",
   "metadata": {},
   "outputs": [
    {
     "name": "stdout",
     "output_type": "stream",
     "text": [
      "Mount Road 2024 we23 1997\n"
     ]
    }
   ],
   "source": [
    "street_01 = 'Mount Road'\n",
    "year = 2024\n",
    "batch_code = 'we23'\n",
    "my_year_of_birth = 1997\n",
    "print(street_01,year,batch_code ,my_year_of_birth,)"
   ]
  },
  {
   "cell_type": "code",
   "execution_count": 27,
   "id": "ca2caf86-f041-4464-8470-a0a93e21bad1",
   "metadata": {},
   "outputs": [
    {
     "name": "stdout",
     "output_type": "stream",
     "text": [
      "Mount Road\n",
      "2024\n",
      "we23\n",
      "1997\n"
     ]
    }
   ],
   "source": [
    "street_01 = 'Mount Road'\n",
    "year = 2024\n",
    "batch_code = 'we23'\n",
    "my_year_of_birth = 1997\n",
    "print(street_01,year,batch_code ,my_year_of_birth,sep='\\n')"
   ]
  },
  {
   "cell_type": "code",
   "execution_count": 28,
   "id": "986aa2d2-9832-45cf-90b8-8a751a8b2ffb",
   "metadata": {},
   "outputs": [
    {
     "name": "stdout",
     "output_type": "stream",
     "text": [
      "1\n"
     ]
    }
   ],
   "source": [
    "a = 1\n",
    "print(a)"
   ]
  },
  {
   "cell_type": "code",
   "execution_count": 29,
   "id": "4bb563c8-a28b-40de-9820-dfb3748912e7",
   "metadata": {},
   "outputs": [
    {
     "name": "stdout",
     "output_type": "stream",
     "text": [
      "10 20\n"
     ]
    }
   ],
   "source": [
    "a = 10\n",
    "b = 20\n",
    "print(a,b)"
   ]
  },
  {
   "cell_type": "code",
   "execution_count": 30,
   "id": "d8d51b30-a808-4662-b9d1-c791e83acbde",
   "metadata": {},
   "outputs": [
    {
     "name": "stdout",
     "output_type": "stream",
     "text": [
      "10 10\n"
     ]
    }
   ],
   "source": [
    "#assign one value to multiple variables\n",
    "a = b = 10\n",
    "print(a,b)"
   ]
  },
  {
   "cell_type": "code",
   "execution_count": 32,
   "id": "d76c9311-a717-4186-95ba-d3b66deb9e97",
   "metadata": {},
   "outputs": [
    {
     "name": "stdout",
     "output_type": "stream",
     "text": [
      "20 20\n"
     ]
    }
   ],
   "source": [
    "a=b=20\n",
    "print(a,b)"
   ]
  },
  {
   "cell_type": "code",
   "execution_count": 33,
   "id": "725df913-6488-43d5-996e-45b57eaad70e",
   "metadata": {},
   "outputs": [
    {
     "name": "stdout",
     "output_type": "stream",
     "text": [
      "10 10\n"
     ]
    }
   ],
   "source": [
    "y=z=10\n",
    "print(y,z)"
   ]
  },
  {
   "cell_type": "code",
   "execution_count": 31,
   "id": "dff6ab6c-6481-4cd0-a1fb-8a4526a2aa70",
   "metadata": {},
   "outputs": [
    {
     "name": "stdout",
     "output_type": "stream",
     "text": [
      "10 20\n"
     ]
    }
   ],
   "source": [
    "# assign multiple values to multiple variables\n",
    "a,b = 10, 20\n",
    "print(a,b)"
   ]
  },
  {
   "cell_type": "code",
   "execution_count": 34,
   "id": "3ab1ea2b-fcbb-47d2-9a2e-5f4a29bbba78",
   "metadata": {},
   "outputs": [
    {
     "name": "stdout",
     "output_type": "stream",
     "text": [
      "10 20\n"
     ]
    }
   ],
   "source": [
    "a,b = 10,20\n",
    "print(a,b)"
   ]
  },
  {
   "cell_type": "code",
   "execution_count": 35,
   "id": "512dee2b-bb2a-4b96-849d-63b3a6523388",
   "metadata": {},
   "outputs": [
    {
     "name": "stdout",
     "output_type": "stream",
     "text": [
      "100 200\n"
     ]
    }
   ],
   "source": [
    "y,z = 100,200\n",
    "print(y,z)"
   ]
  },
  {
   "cell_type": "code",
   "execution_count": 36,
   "id": "13950d90-6c6f-4138-a76a-20f4c444aa46",
   "metadata": {},
   "outputs": [
    {
     "name": "stdout",
     "output_type": "stream",
     "text": [
      "1 <class 'int'>\n"
     ]
    }
   ],
   "source": [
    "# Data types in python\n",
    "#  Integer\n",
    "a = 1\n",
    "print(a,type(a))"
   ]
  },
  {
   "cell_type": "code",
   "execution_count": 39,
   "id": "431e727d-52a7-4c74-beff-d1a17bda3db7",
   "metadata": {},
   "outputs": [
    {
     "name": "stdout",
     "output_type": "stream",
     "text": [
      "500 <class 'int'>\n"
     ]
    }
   ],
   "source": [
    "z = 500\n",
    "print(z,type(z))"
   ]
  },
  {
   "cell_type": "code",
   "execution_count": 41,
   "id": "490b7700-3368-4174-8973-b307ba42bfbb",
   "metadata": {},
   "outputs": [
    {
     "name": "stdout",
     "output_type": "stream",
     "text": [
      "12.5 <class 'float'>\n"
     ]
    }
   ],
   "source": [
    "# Float point\n",
    "b = 12.5\n",
    "print(b,type(b))"
   ]
  },
  {
   "cell_type": "code",
   "execution_count": 42,
   "id": "1a7d3309-06b4-43ff-9616-36c2cb8a6a75",
   "metadata": {},
   "outputs": [
    {
     "name": "stdout",
     "output_type": "stream",
     "text": [
      "98.7 <class 'float'>\n"
     ]
    }
   ],
   "source": [
    "body_temperature = 98.7\n",
    "print(body_temperature,type(body_temperature))"
   ]
  },
  {
   "cell_type": "code",
   "execution_count": 43,
   "id": "7517ada3-af37-42a4-a32a-fab2a1d13eba",
   "metadata": {},
   "outputs": [
    {
     "name": "stdout",
     "output_type": "stream",
     "text": [
      "True <class 'bool'>\n"
     ]
    }
   ],
   "source": [
    "# Boolean = True or False\n",
    "Play_cricket = True\n",
    "print(Play_cricket,type(Play_cricket))"
   ]
  },
  {
   "cell_type": "code",
   "execution_count": 44,
   "id": "ba5eb8cc-08f2-4d14-ac6d-24f758cd1b5d",
   "metadata": {},
   "outputs": [
    {
     "name": "stdout",
     "output_type": "stream",
     "text": [
      "Mount Road <class 'str'>\n"
     ]
    }
   ],
   "source": [
    "# String = set of  Characters\n",
    "street_01 = 'Mount Road'\n",
    "print(street_01,type(street_01))"
   ]
  },
  {
   "cell_type": "code",
   "execution_count": 45,
   "id": "2d50f387-5ea1-40b4-a980-8807bfe04baf",
   "metadata": {},
   "outputs": [
    {
     "name": "stdout",
     "output_type": "stream",
     "text": [
      "(2+5j) <class 'complex'>\n"
     ]
    }
   ],
   "source": [
    "# Complex Datatypes\n",
    "#scientic calculation/computing, signals processing\n",
    "e =2+5j\n",
    "print(e,type(e))"
   ]
  },
  {
   "cell_type": "code",
   "execution_count": 51,
   "id": "e3ae18e9-8861-444f-b4e2-8723c573a17d",
   "metadata": {},
   "outputs": [
    {
     "name": "stdout",
     "output_type": "stream",
     "text": [
      "(1+2j) <class 'complex'>\n"
     ]
    }
   ],
   "source": [
    "b = 1+2\n",
    "print(b,type(b))\n"
   ]
  },
  {
   "cell_type": "code",
   "execution_count": null,
   "id": "6ddaae8e-0480-4056-ab16-3e752a99f8f2",
   "metadata": {},
   "outputs": [],
   "source": [
    "# Collection\n",
    "List\n",
    "Tuple\n",
    "Set\n",
    "Dictionary"
   ]
  },
  {
   "cell_type": "code",
   "execution_count": 52,
   "id": "f2e5f66e-f306-4d63-8146-7d48ae5b789f",
   "metadata": {},
   "outputs": [],
   "source": [
    "# List\n",
    "# Heterogenous - hold different datatypes\n",
    "# defined[]"
   ]
  },
  {
   "cell_type": "code",
   "execution_count": 53,
   "id": "92f23e64-a79d-4f62-b9ab-b6574afba3b2",
   "metadata": {},
   "outputs": [
    {
     "name": "stdout",
     "output_type": "stream",
     "text": [
      "[1, 2, 3, 4] <class 'list'>\n"
     ]
    }
   ],
   "source": [
    "a =[1,2,3,4]\n",
    "print(a,type(a))"
   ]
  },
  {
   "cell_type": "code",
   "execution_count": 54,
   "id": "74146e76-ab00-421b-adec-06f49f2eb0cd",
   "metadata": {},
   "outputs": [
    {
     "name": "stdout",
     "output_type": "stream",
     "text": [
      "['E001', 'Abu', 27, 5.7] <class 'list'>\n"
     ]
    }
   ],
   "source": [
    "list1 = ['E001','Abu',27,5.7]\n",
    "print(list1,type(list1))"
   ]
  },
  {
   "cell_type": "code",
   "execution_count": 55,
   "id": "54ed9f31-eeab-405f-9267-9c942f1412f5",
   "metadata": {},
   "outputs": [
    {
     "data": {
      "text/plain": [
       "'E001'"
      ]
     },
     "execution_count": 55,
     "metadata": {},
     "output_type": "execute_result"
    }
   ],
   "source": [
    "list1[0]"
   ]
  },
  {
   "cell_type": "code",
   "execution_count": 56,
   "id": "08d4cdf3-757f-491e-91e6-3a9dbab971ce",
   "metadata": {},
   "outputs": [
    {
     "data": {
      "text/plain": [
       "27"
      ]
     },
     "execution_count": 56,
     "metadata": {},
     "output_type": "execute_result"
    }
   ],
   "source": [
    "list1[-2]"
   ]
  },
  {
   "cell_type": "code",
   "execution_count": 57,
   "id": "0d8de180-000b-48b8-b3de-5c8c74c99c4c",
   "metadata": {},
   "outputs": [
    {
     "data": {
      "text/plain": [
       "'E001'"
      ]
     },
     "execution_count": 57,
     "metadata": {},
     "output_type": "execute_result"
    }
   ],
   "source": [
    "list1[-4]"
   ]
  },
  {
   "cell_type": "code",
   "execution_count": 58,
   "id": "71debcaf-7be5-4b71-8991-1ccacc7c6ed3",
   "metadata": {},
   "outputs": [
    {
     "name": "stdout",
     "output_type": "stream",
     "text": [
      "[] <class 'list'>\n"
     ]
    }
   ],
   "source": [
    "# Creation of empty list\n",
    "a =[]\n",
    "print(a,type(a))"
   ]
  },
  {
   "cell_type": "code",
   "execution_count": 59,
   "id": "50680c45-fea9-45f8-8854-63b83268ce4c",
   "metadata": {},
   "outputs": [
    {
     "ename": "IndexError",
     "evalue": "list assignment index out of range",
     "output_type": "error",
     "traceback": [
      "\u001b[1;31m---------------------------------------------------------------------------\u001b[0m",
      "\u001b[1;31mIndexError\u001b[0m                                Traceback (most recent call last)",
      "Cell \u001b[1;32mIn[59], line 1\u001b[0m\n\u001b[1;32m----> 1\u001b[0m a[\u001b[38;5;241m0\u001b[39m] \u001b[38;5;241m=\u001b[39m \u001b[38;5;124m'\u001b[39m\u001b[38;5;124mAbu\u001b[39m\u001b[38;5;124m'\u001b[39m\n\u001b[0;32m      2\u001b[0m \u001b[38;5;28mprint\u001b[39m(a)\n",
      "\u001b[1;31mIndexError\u001b[0m: list assignment index out of range"
     ]
    }
   ],
   "source": [
    "a[0] = 'Abu'\n",
    "print(a)"
   ]
  },
  {
   "cell_type": "code",
   "execution_count": 60,
   "id": "b04ab36f-290f-4c32-9775-69b6f374995b",
   "metadata": {},
   "outputs": [
    {
     "name": "stdout",
     "output_type": "stream",
     "text": [
      "['Abu']\n"
     ]
    }
   ],
   "source": [
    "a.append('Abu')\n",
    "print(a)"
   ]
  },
  {
   "cell_type": "code",
   "execution_count": 61,
   "id": "43eaa3e2-d74a-4fc5-931c-141e106df274",
   "metadata": {},
   "outputs": [
    {
     "ename": "TypeError",
     "evalue": "list.append() takes no keyword arguments",
     "output_type": "error",
     "traceback": [
      "\u001b[1;31m---------------------------------------------------------------------------\u001b[0m",
      "\u001b[1;31mTypeError\u001b[0m                                 Traceback (most recent call last)",
      "Cell \u001b[1;32mIn[61], line 1\u001b[0m\n\u001b[1;32m----> 1\u001b[0m a\u001b[38;5;241m.\u001b[39mappend(\u001b[38;5;124m'\u001b[39m\u001b[38;5;124mAbu\u001b[39m\u001b[38;5;124m'\u001b[39m,\u001b[38;5;124m'\u001b[39m\u001b[38;5;124mParveen\u001b[39m\u001b[38;5;124m'\u001b[39m,\u001b[38;5;124m'\u001b[39m\u001b[38;5;124mAyeshu\u001b[39m\u001b[38;5;124m'\u001b[39m,sep\u001b[38;5;241m=\u001b[39m\u001b[38;5;124m'\u001b[39m\u001b[38;5;130;01m\\n\u001b[39;00m\u001b[38;5;124m'\u001b[39m)\n\u001b[0;32m      2\u001b[0m \u001b[38;5;28mprint\u001b[39m(a)\n",
      "\u001b[1;31mTypeError\u001b[0m: list.append() takes no keyword arguments"
     ]
    }
   ],
   "source": [
    "a.append('Abu','Parveen','Ayeshu',sep='\\n')\n",
    "print(a)"
   ]
  },
  {
   "cell_type": "code",
   "execution_count": 62,
   "id": "679e39bc-1eb0-4a1d-9d81-63f2dc1d1fe1",
   "metadata": {},
   "outputs": [
    {
     "ename": "TypeError",
     "evalue": "list.append() takes exactly one argument (3 given)",
     "output_type": "error",
     "traceback": [
      "\u001b[1;31m---------------------------------------------------------------------------\u001b[0m",
      "\u001b[1;31mTypeError\u001b[0m                                 Traceback (most recent call last)",
      "Cell \u001b[1;32mIn[62], line 1\u001b[0m\n\u001b[1;32m----> 1\u001b[0m a\u001b[38;5;241m.\u001b[39mappend(\u001b[38;5;124m'\u001b[39m\u001b[38;5;124mAbu\u001b[39m\u001b[38;5;124m'\u001b[39m,\u001b[38;5;124m'\u001b[39m\u001b[38;5;124mParveen\u001b[39m\u001b[38;5;124m'\u001b[39m,\u001b[38;5;124m'\u001b[39m\u001b[38;5;124mAyeshu\u001b[39m\u001b[38;5;124m'\u001b[39m)\n\u001b[0;32m      2\u001b[0m \u001b[38;5;28mprint\u001b[39m(a)\n",
      "\u001b[1;31mTypeError\u001b[0m: list.append() takes exactly one argument (3 given)"
     ]
    }
   ],
   "source": [
    "a.append('Abu','Parveen','Ayeshu')\n",
    "print(a)"
   ]
  },
  {
   "cell_type": "code",
   "execution_count": 63,
   "id": "9cddada7-3596-4d34-ad78-224b00de7624",
   "metadata": {},
   "outputs": [
    {
     "name": "stdout",
     "output_type": "stream",
     "text": [
      "['Abu', 'Abu']\n"
     ]
    }
   ],
   "source": [
    "a.append('Abu')\n",
    "print(a)"
   ]
  },
  {
   "cell_type": "code",
   "execution_count": 64,
   "id": "c20284dc-4a19-4848-a49f-0a09323724b8",
   "metadata": {},
   "outputs": [
    {
     "name": "stdout",
     "output_type": "stream",
     "text": [
      "['Abu', 'Abu', 'Parveen']\n"
     ]
    }
   ],
   "source": [
    "a.append('Parveen')\n",
    "print(a)"
   ]
  },
  {
   "cell_type": "code",
   "execution_count": 65,
   "id": "98bbc0c1-18fb-492c-8e24-ec523c5b97c6",
   "metadata": {},
   "outputs": [
    {
     "name": "stdout",
     "output_type": "stream",
     "text": [
      "['Abu', 'Abu', 'Parveen', 'Ayeshu']\n"
     ]
    }
   ],
   "source": [
    "a.append('Ayeshu')\n",
    "print(a)"
   ]
  },
  {
   "cell_type": "code",
   "execution_count": 66,
   "id": "af0e7c70-f502-406b-818a-309e6fe64333",
   "metadata": {},
   "outputs": [
    {
     "name": "stdout",
     "output_type": "stream",
     "text": [
      "['Abu', 'Parveen'] <class 'list'>\n"
     ]
    }
   ],
   "source": [
    "a1 = ['Abu','Parveen']\n",
    "print(a1,type(a1))"
   ]
  },
  {
   "cell_type": "code",
   "execution_count": 67,
   "id": "e6197e12-e060-4baf-a8c8-55d15dabb24d",
   "metadata": {},
   "outputs": [
    {
     "name": "stdout",
     "output_type": "stream",
     "text": [
      "['Abu', 'Parveen', ['Ayeshu', 'Hakim']]\n"
     ]
    }
   ],
   "source": [
    "a1.append(['Ayeshu','Hakim'])\n",
    "print(a1)"
   ]
  },
  {
   "cell_type": "code",
   "execution_count": 68,
   "id": "64c8e711-294b-426e-afc8-ef8f494fdbae",
   "metadata": {},
   "outputs": [
    {
     "name": "stdout",
     "output_type": "stream",
     "text": [
      "['Abu', 'Parveen'] <class 'list'>\n"
     ]
    }
   ],
   "source": [
    "a2 = ['Abu','Parveen']\n",
    "print(a2,type(a2))"
   ]
  },
  {
   "cell_type": "code",
   "execution_count": 69,
   "id": "b3440ead-9d96-49b4-9c59-f86ac376fb43",
   "metadata": {},
   "outputs": [
    {
     "name": "stdout",
     "output_type": "stream",
     "text": [
      "['Abu', 'Parveen']\n",
      "['Abu', 'Parveen', 'ayeshu', ' Hakim']\n"
     ]
    }
   ],
   "source": [
    "a2 = ['Abu','Parveen']\n",
    "print(a2)\n",
    "a2.extend(['ayeshu', ' Hakim'])\n",
    "print(a2)"
   ]
  },
  {
   "cell_type": "code",
   "execution_count": 70,
   "id": "f914a900-dee3-4b42-94b9-b24085732091",
   "metadata": {},
   "outputs": [
    {
     "name": "stdout",
     "output_type": "stream",
     "text": [
      "['abu', 'parveen']\n",
      "['abu', 'parveen', ['ayeshu', 'hakim']]\n"
     ]
    }
   ],
   "source": [
    "name1 = ['abu', 'parveen']\n",
    "print(name1)\n",
    "name1.append(['ayeshu', 'hakim'])\n",
    "print(name1)"
   ]
  },
  {
   "cell_type": "code",
   "execution_count": 72,
   "id": "e862bf8d-18bc-41c3-a51c-95e571dfae4f",
   "metadata": {},
   "outputs": [
    {
     "name": "stdout",
     "output_type": "stream",
     "text": [
      "['abu', 'parveen']\n",
      "['abu', 'parveen', 'ayeshu', 'hakim']\n"
     ]
    }
   ],
   "source": [
    "name2 = ['abu', 'parveen']\n",
    "print(name2)\n",
    "name2.extend(['ayeshu', 'hakim'])\n",
    "print(name2)"
   ]
  },
  {
   "cell_type": "code",
   "execution_count": 73,
   "id": "1ddc68d0-c45f-406b-9e4a-cea963ec41c5",
   "metadata": {},
   "outputs": [
    {
     "name": "stdout",
     "output_type": "stream",
     "text": [
      "['abu', 'Amme', 'parveen', 'ayeshu', 'hakim']\n"
     ]
    }
   ],
   "source": [
    "name2.insert(1,'Amme')\n",
    "print(name2)"
   ]
  },
  {
   "cell_type": "code",
   "execution_count": 74,
   "id": "cce69dbd-27a2-45a7-9a55-60eef9633eec",
   "metadata": {},
   "outputs": [
    {
     "name": "stdout",
     "output_type": "stream",
     "text": [
      "['abu', 'Amme', 'parveen', 'Naushad', 'ayeshu', 'hakim']\n"
     ]
    }
   ],
   "source": [
    "name2.insert(3,'Naushad')\n",
    "print(name2)"
   ]
  },
  {
   "cell_type": "code",
   "execution_count": 75,
   "id": "6b682134-529e-44a9-bf1b-ee7e3c819892",
   "metadata": {},
   "outputs": [
    {
     "data": {
      "text/plain": [
       "6"
      ]
     },
     "execution_count": 75,
     "metadata": {},
     "output_type": "execute_result"
    }
   ],
   "source": [
    "# Count of elements\n",
    "len(name2)"
   ]
  },
  {
   "cell_type": "code",
   "execution_count": 78,
   "id": "a68702ae-e65c-44dd-8e2a-e0e47eab9a13",
   "metadata": {},
   "outputs": [
    {
     "name": "stdout",
     "output_type": "stream",
     "text": [
      "before 6 ['abu', 'Amme', 'parveen', 'Naushad', 'ayeshu', 'hakim']\n",
      "After 5 ['abu', 'Amme', 'parveen', 'ayeshu', 'hakim']\n"
     ]
    }
   ],
   "source": [
    "print('before',len(name2),name2)\n",
    "name2.remove('Naushad')\n",
    "print('After',len(name2), name2)"
   ]
  },
  {
   "cell_type": "code",
   "execution_count": 79,
   "id": "71032375-ea9f-4508-b6ae-d6ea316bc787",
   "metadata": {},
   "outputs": [
    {
     "name": "stdout",
     "output_type": "stream",
     "text": [
      "Before 5 ['abu', 'Amme', 'parveen', 'ayeshu', 'hakim']\n",
      "After 4 ['abu', 'Amme', 'parveen', 'ayeshu']\n"
     ]
    }
   ],
   "source": [
    "# remove\n",
    "print('Before', len(name2), name2)\n",
    "name2.remove('hakim')\n",
    "print('After', len(name2), name2)"
   ]
  },
  {
   "cell_type": "code",
   "execution_count": 80,
   "id": "a398ec56-6a54-497c-8d15-e4b162336f93",
   "metadata": {},
   "outputs": [
    {
     "name": "stdout",
     "output_type": "stream",
     "text": [
      "Before 4 ['abu', 'Amme', 'parveen', 'ayeshu']\n"
     ]
    },
    {
     "ename": "TypeError",
     "evalue": "'str' object cannot be interpreted as an integer",
     "output_type": "error",
     "traceback": [
      "\u001b[1;31m---------------------------------------------------------------------------\u001b[0m",
      "\u001b[1;31mTypeError\u001b[0m                                 Traceback (most recent call last)",
      "Cell \u001b[1;32mIn[80], line 2\u001b[0m\n\u001b[0;32m      1\u001b[0m \u001b[38;5;28mprint\u001b[39m(\u001b[38;5;124m'\u001b[39m\u001b[38;5;124mBefore\u001b[39m\u001b[38;5;124m'\u001b[39m, \u001b[38;5;28mlen\u001b[39m(name2), name2)\n\u001b[1;32m----> 2\u001b[0m name2\u001b[38;5;241m.\u001b[39mpop(\u001b[38;5;124m'\u001b[39m\u001b[38;5;124mAmme\u001b[39m\u001b[38;5;124m'\u001b[39m)\n\u001b[0;32m      3\u001b[0m \u001b[38;5;28mprint\u001b[39m(\u001b[38;5;124m'\u001b[39m\u001b[38;5;124mAfter\u001b[39m\u001b[38;5;124m'\u001b[39m, \u001b[38;5;28mlen\u001b[39m(name2), name2)\n",
      "\u001b[1;31mTypeError\u001b[0m: 'str' object cannot be interpreted as an integer"
     ]
    }
   ],
   "source": [
    "print('Before', len(name2), name2)\n",
    "name2.pop('Amme')\n",
    "print('After', len(name2), name2)"
   ]
  },
  {
   "cell_type": "code",
   "execution_count": 82,
   "id": "12b3b740-5be0-48e9-8dfb-78f014663e45",
   "metadata": {},
   "outputs": [
    {
     "name": "stdout",
     "output_type": "stream",
     "text": [
      "Before 3 ['abu', 'Amme', 'ayeshu']\n",
      "After 2 ['abu', 'ayeshu']\n"
     ]
    }
   ],
   "source": [
    "# pop\n",
    "print('Before', len(name2), name2)\n",
    "name2.pop(1)\n",
    "print('After', len(name2), name2)"
   ]
  },
  {
   "cell_type": "code",
   "execution_count": 83,
   "id": "126062f1-2bff-4583-98d7-b24d56aba5df",
   "metadata": {},
   "outputs": [
    {
     "name": "stdout",
     "output_type": "stream",
     "text": [
      "before 4 ['abu', 'parveen', 'Ayeshu', 'Amme']\n",
      "After 4 ['Amme', 'Ayeshu', 'abu', 'parveen']\n"
     ]
    }
   ],
   "source": [
    "# Sort (big to small)\n",
    "a2 = ['abu', 'parveen', 'Ayeshu', 'Amme']\n",
    "print('before', len(a2), a2)\n",
    "a2.sort()\n",
    "print('After', len(a2), a2)"
   ]
  },
  {
   "cell_type": "code",
   "execution_count": 84,
   "id": "739b75f9-6290-46c4-aa7e-e55a0eac4d84",
   "metadata": {},
   "outputs": [
    {
     "name": "stdout",
     "output_type": "stream",
     "text": [
      "before 4 ['abu', 'parveen', 'Ayeshu', 'Amme']\n",
      "After 4 ['Amme', 'Ayeshu', 'parveen', 'abu']\n"
     ]
    }
   ],
   "source": [
    "# reverse the list\n",
    "a2 = ['abu', 'parveen', 'Ayeshu', 'Amme']\n",
    "print('before', len(a2), a2)\n",
    "a2.reverse()\n",
    "print('After', len(a2), a2)"
   ]
  },
  {
   "cell_type": "code",
   "execution_count": 87,
   "id": "76f29f2c-5a6c-4951-835f-988d6a8144c2",
   "metadata": {},
   "outputs": [
    {
     "data": {
      "text/plain": [
       "2"
      ]
     },
     "execution_count": 87,
     "metadata": {},
     "output_type": "execute_result"
    }
   ],
   "source": [
    "# finf occurance of a value in list\n",
    "a2 = ['abu', 'parveen', 'Ayeshu', 'abu','Amme']\n",
    "a2.count('abu')\n"
   ]
  },
  {
   "cell_type": "code",
   "execution_count": 89,
   "id": "11c549e9-69b3-4393-a98a-b28966e1e5a3",
   "metadata": {},
   "outputs": [
    {
     "name": "stdout",
     "output_type": "stream",
     "text": [
      "abu abu abu abu\n"
     ]
    }
   ],
   "source": [
    "a2 = ['abu', 'parveen', 'Ayeshu', 'abu','Amme']\n",
    "print(a2[-2],a2[-5],a2[0],a2[3])"
   ]
  },
  {
   "cell_type": "code",
   "execution_count": 118,
   "id": "96ba245d-6116-49df-a88f-d689c584f91a",
   "metadata": {},
   "outputs": [
    {
     "data": {
      "text/plain": [
       "'parveen'"
      ]
     },
     "execution_count": 118,
     "metadata": {},
     "output_type": "execute_result"
    }
   ],
   "source": [
    "a2[1]"
   ]
  },
  {
   "cell_type": "code",
   "execution_count": 119,
   "id": "f6ffc9f5-985b-467f-a9a3-37fd9aa02665",
   "metadata": {},
   "outputs": [
    {
     "data": {
      "text/plain": [
       "'Ayeshu'"
      ]
     },
     "execution_count": 119,
     "metadata": {},
     "output_type": "execute_result"
    }
   ],
   "source": [
    "a2[2]"
   ]
  },
  {
   "cell_type": "code",
   "execution_count": 90,
   "id": "66995da5-8ab5-40ff-a455-bcc1b831aa5c",
   "metadata": {},
   "outputs": [
    {
     "data": {
      "text/plain": [
       "'abu'"
      ]
     },
     "execution_count": 90,
     "metadata": {},
     "output_type": "execute_result"
    }
   ],
   "source": [
    "a2[-2]"
   ]
  },
  {
   "cell_type": "code",
   "execution_count": 122,
   "id": "cce92a2e-1379-41a1-a581-56060ff083a0",
   "metadata": {},
   "outputs": [
    {
     "name": "stdout",
     "output_type": "stream",
     "text": [
      "['abu']\n"
     ]
    }
   ],
   "source": [
    "print(a2[0:1])"
   ]
  },
  {
   "cell_type": "code",
   "execution_count": 93,
   "id": "a3f8a46d-c515-4666-9f55-51d5d7c659b9",
   "metadata": {},
   "outputs": [
    {
     "data": {
      "text/plain": [
       "[]"
      ]
     },
     "execution_count": 93,
     "metadata": {},
     "output_type": "execute_result"
    }
   ],
   "source": [
    "a2[-2 :-5]"
   ]
  },
  {
   "cell_type": "code",
   "execution_count": 95,
   "id": "29523372-8cb9-48a6-927c-fbd91e49923e",
   "metadata": {},
   "outputs": [
    {
     "data": {
      "text/plain": [
       "['abu', 'parveen', 'Ayeshu', 'abu', 'Amme']"
      ]
     },
     "execution_count": 95,
     "metadata": {},
     "output_type": "execute_result"
    }
   ],
   "source": [
    "a2[0:]\n"
   ]
  },
  {
   "cell_type": "code",
   "execution_count": 98,
   "id": "0db66e2a-f94e-4c8b-8191-eede48e55851",
   "metadata": {},
   "outputs": [
    {
     "data": {
      "text/plain": [
       "[]"
      ]
     },
     "execution_count": 98,
     "metadata": {},
     "output_type": "execute_result"
    }
   ],
   "source": [
    "a2[-1:0]"
   ]
  },
  {
   "cell_type": "code",
   "execution_count": 99,
   "id": "1291c5cc-a99f-4e9d-8020-7f65cf9d2ca8",
   "metadata": {},
   "outputs": [
    {
     "ename": "SyntaxError",
     "evalue": "invalid syntax (500457004.py, line 1)",
     "output_type": "error",
     "traceback": [
      "\u001b[1;36m  Cell \u001b[1;32mIn[99], line 1\u001b[1;36m\u001b[0m\n\u001b[1;33m    a2[]\u001b[0m\n\u001b[1;37m       ^\u001b[0m\n\u001b[1;31mSyntaxError\u001b[0m\u001b[1;31m:\u001b[0m invalid syntax\n"
     ]
    }
   ],
   "source": [
    "a2[]"
   ]
  },
  {
   "cell_type": "code",
   "execution_count": 100,
   "id": "875458e2-60f4-4752-aea0-29120b9e5f88",
   "metadata": {},
   "outputs": [
    {
     "name": "stdout",
     "output_type": "stream",
     "text": [
      "['abu', 'parveen', 'Ayeshu', 'abu', 'Amme']\n"
     ]
    }
   ],
   "source": [
    "print(a2)"
   ]
  },
  {
   "cell_type": "code",
   "execution_count": 101,
   "id": "8797d764-e158-4680-b28e-8610348923be",
   "metadata": {},
   "outputs": [
    {
     "ename": "TypeError",
     "evalue": "list indices must be integers or slices, not tuple",
     "output_type": "error",
     "traceback": [
      "\u001b[1;31m---------------------------------------------------------------------------\u001b[0m",
      "\u001b[1;31mTypeError\u001b[0m                                 Traceback (most recent call last)",
      "Cell \u001b[1;32mIn[101], line 1\u001b[0m\n\u001b[1;32m----> 1\u001b[0m a2[\u001b[38;5;241m0\u001b[39m,\u001b[38;5;241m1\u001b[39m]\n",
      "\u001b[1;31mTypeError\u001b[0m: list indices must be integers or slices, not tuple"
     ]
    }
   ],
   "source": [
    "a2[0,1]"
   ]
  },
  {
   "cell_type": "code",
   "execution_count": 106,
   "id": "3a6bd35a-efd8-4309-8b62-6083e222f5e2",
   "metadata": {},
   "outputs": [
    {
     "data": {
      "text/plain": [
       "[]"
      ]
     },
     "execution_count": 106,
     "metadata": {},
     "output_type": "execute_result"
    }
   ],
   "source": [
    "a2[3:-0]"
   ]
  },
  {
   "cell_type": "code",
   "execution_count": 107,
   "id": "6094338d-d049-4c81-9c2c-48cedf35d89f",
   "metadata": {},
   "outputs": [
    {
     "data": {
      "text/plain": [
       "'Amme'"
      ]
     },
     "execution_count": 107,
     "metadata": {},
     "output_type": "execute_result"
    }
   ],
   "source": [
    "a2[-1]"
   ]
  },
  {
   "cell_type": "code",
   "execution_count": 108,
   "id": "81e0e298-c16b-4f4e-850f-0e099ac5f88e",
   "metadata": {},
   "outputs": [
    {
     "data": {
      "text/plain": [
       "['abu', 'Amme']"
      ]
     },
     "execution_count": 108,
     "metadata": {},
     "output_type": "execute_result"
    }
   ],
   "source": [
    "a2[-2:]"
   ]
  },
  {
   "cell_type": "code",
   "execution_count": 109,
   "id": "1ed41325-38e2-498c-871b-85f4b836d3e4",
   "metadata": {},
   "outputs": [
    {
     "data": {
      "text/plain": [
       "['abu']"
      ]
     },
     "execution_count": 109,
     "metadata": {},
     "output_type": "execute_result"
    }
   ],
   "source": [
    "a2[-2:-1]"
   ]
  },
  {
   "cell_type": "code",
   "execution_count": 110,
   "id": "aafca629-a9ea-4e7a-a012-7806bbf13794",
   "metadata": {},
   "outputs": [
    {
     "data": {
      "text/plain": [
       "['abu']"
      ]
     },
     "execution_count": 110,
     "metadata": {},
     "output_type": "execute_result"
    }
   ],
   "source": [
    "a2[3:-1]"
   ]
  },
  {
   "cell_type": "code",
   "execution_count": 112,
   "id": "d1c31731-b52a-4693-b095-bce5ce12f6e8",
   "metadata": {},
   "outputs": [
    {
     "data": {
      "text/plain": [
       "['abu', 'Amme']"
      ]
     },
     "execution_count": 112,
     "metadata": {},
     "output_type": "execute_result"
    }
   ],
   "source": [
    "a2[3:5]"
   ]
  },
  {
   "cell_type": "code",
   "execution_count": 113,
   "id": "25ac6945-9f75-4060-9c7d-6e8c23953ee7",
   "metadata": {},
   "outputs": [
    {
     "data": {
      "text/plain": [
       "['abu', 'Amme']"
      ]
     },
     "execution_count": 113,
     "metadata": {},
     "output_type": "execute_result"
    }
   ],
   "source": [
    "a2[3::]"
   ]
  },
  {
   "cell_type": "code",
   "execution_count": 114,
   "id": "7d710491-6729-4764-aeaa-f6b97415639c",
   "metadata": {},
   "outputs": [
    {
     "name": "stdout",
     "output_type": "stream",
     "text": [
      "['abu', 'parveen', 'Ayeshu', 'abu', 'Amme']\n"
     ]
    }
   ],
   "source": [
    "print(a2)"
   ]
  },
  {
   "cell_type": "code",
   "execution_count": 115,
   "id": "24f357e5-0f53-44b4-b801-5b5066bd276e",
   "metadata": {},
   "outputs": [
    {
     "ename": "AttributeError",
     "evalue": "'list' object has no attribute 'removeall'",
     "output_type": "error",
     "traceback": [
      "\u001b[1;31m---------------------------------------------------------------------------\u001b[0m",
      "\u001b[1;31mAttributeError\u001b[0m                            Traceback (most recent call last)",
      "Cell \u001b[1;32mIn[115], line 2\u001b[0m\n\u001b[0;32m      1\u001b[0m a \u001b[38;5;241m=\u001b[39m [\u001b[38;5;124m'\u001b[39m\u001b[38;5;124mabu\u001b[39m\u001b[38;5;124m'\u001b[39m, \u001b[38;5;124m'\u001b[39m\u001b[38;5;124mparveen\u001b[39m\u001b[38;5;124m'\u001b[39m, \u001b[38;5;124m'\u001b[39m\u001b[38;5;124mAyeshu\u001b[39m\u001b[38;5;124m'\u001b[39m, \u001b[38;5;124m'\u001b[39m\u001b[38;5;124mabu\u001b[39m\u001b[38;5;124m'\u001b[39m, \u001b[38;5;124m'\u001b[39m\u001b[38;5;124mAmme\u001b[39m\u001b[38;5;124m'\u001b[39m]\n\u001b[1;32m----> 2\u001b[0m a\u001b[38;5;241m.\u001b[39mremoveall(\u001b[38;5;124m'\u001b[39m\u001b[38;5;124mabu\u001b[39m\u001b[38;5;124m'\u001b[39m)\n\u001b[0;32m      3\u001b[0m \u001b[38;5;28mprint\u001b[39m(a)\n",
      "\u001b[1;31mAttributeError\u001b[0m: 'list' object has no attribute 'removeall'"
     ]
    }
   ],
   "source": [
    "a = ['abu', 'parveen', 'Ayeshu', 'abu', 'Amme']\n",
    "a.removeall('abu')\n",
    "print(a)"
   ]
  },
  {
   "cell_type": "code",
   "execution_count": 117,
   "id": "26609d3d-55e4-477f-a07a-1155cca704a2",
   "metadata": {},
   "outputs": [
    {
     "ename": "TypeError",
     "evalue": "pop expected at most 1 argument, got 2",
     "output_type": "error",
     "traceback": [
      "\u001b[1;31m---------------------------------------------------------------------------\u001b[0m",
      "\u001b[1;31mTypeError\u001b[0m                                 Traceback (most recent call last)",
      "Cell \u001b[1;32mIn[117], line 1\u001b[0m\n\u001b[1;32m----> 1\u001b[0m a\u001b[38;5;241m.\u001b[39mpop(\u001b[38;5;241m0\u001b[39m,\u001b[38;5;241m3\u001b[39m)\n\u001b[0;32m      2\u001b[0m \u001b[38;5;28mprint\u001b[39m(a)\n",
      "\u001b[1;31mTypeError\u001b[0m: pop expected at most 1 argument, got 2"
     ]
    }
   ],
   "source": [
    "a.pop(0,3)\n",
    "print(a)\n"
   ]
  },
  {
   "cell_type": "code",
   "execution_count": 123,
   "id": "ba491d7d-237d-4c03-9997-d6f773fea1d1",
   "metadata": {},
   "outputs": [
    {
     "name": "stdout",
     "output_type": "stream",
     "text": [
      "['Amme', 'Ayeshu', 'abu', 'abu', 'parveen']\n"
     ]
    }
   ],
   "source": [
    "a = ['abu', 'parveen', 'Ayeshu', 'abu', 'Amme']\n",
    "a.sort(reverse = False)\n",
    "print(a)"
   ]
  },
  {
   "cell_type": "code",
   "execution_count": 124,
   "id": "3c99a658-ff18-45a5-a5b4-ec043b1c9fd0",
   "metadata": {},
   "outputs": [
    {
     "name": "stdout",
     "output_type": "stream",
     "text": [
      "['parveen', 'abu', 'abu', 'Ayeshu', 'Amme']\n"
     ]
    }
   ],
   "source": [
    "a.sort(reverse = True)\n",
    "print(a)"
   ]
  },
  {
   "cell_type": "code",
   "execution_count": 125,
   "id": "80c074c7-c43f-4a6c-a63b-ddc86c3a6778",
   "metadata": {},
   "outputs": [
    {
     "name": "stdout",
     "output_type": "stream",
     "text": [
      "['Amme', 'Ayeshu', 'abu', 'abu', 'parveen']\n"
     ]
    }
   ],
   "source": [
    "a.sort()\n",
    "print(a)"
   ]
  },
  {
   "cell_type": "code",
   "execution_count": 127,
   "id": "2f0ab67d-513b-4816-afb8-56b96cf4f905",
   "metadata": {},
   "outputs": [
    {
     "name": "stdout",
     "output_type": "stream",
     "text": [
      "A\n",
      "b\n",
      "u\n",
      "b\n",
      "a\n",
      "k\n",
      "k\n",
      "a\n"
     ]
    }
   ],
   "source": [
    "s = 'Abubakkar'\n",
    "print(s[0])\n",
    "print(s[1])\n",
    "print(s[2])\n",
    "print(s[3])\n",
    "print(s[4])\n",
    "print(s[5])\n",
    "print(s[6])\n",
    "print(s[7])"
   ]
  },
  {
   "cell_type": "code",
   "execution_count": 128,
   "id": "17a3bca5-75ee-41c7-9197-ad8fc9f20817",
   "metadata": {},
   "outputs": [
    {
     "name": "stdout",
     "output_type": "stream",
     "text": [
      "r\n"
     ]
    }
   ],
   "source": [
    "print(s[8])"
   ]
  },
  {
   "cell_type": "code",
   "execution_count": 129,
   "id": "a24f6453-450d-4a5a-9811-8e86d0938287",
   "metadata": {},
   "outputs": [
    {
     "name": "stdout",
     "output_type": "stream",
     "text": [
      "bub\n"
     ]
    }
   ],
   "source": [
    "print(s[1:4])"
   ]
  },
  {
   "cell_type": "code",
   "execution_count": 137,
   "id": "cea649c1-2b7d-47ba-b025-398aed5413ed",
   "metadata": {},
   "outputs": [
    {
     "name": "stdout",
     "output_type": "stream",
     "text": [
      "Abu bakkar\n"
     ]
    }
   ],
   "source": [
    "print(s[0:3],s[3:9])"
   ]
  },
  {
   "cell_type": "code",
   "execution_count": 144,
   "id": "f48f0089-fe12-4ba3-9a21-022c1062d73a",
   "metadata": {},
   "outputs": [
    {
     "name": "stdout",
     "output_type": "stream",
     "text": [
      "Abubakkar\n"
     ]
    }
   ],
   "source": [
    "print(s[::])"
   ]
  },
  {
   "cell_type": "code",
   "execution_count": 145,
   "id": "7ffdc3f8-b86a-440f-a8a3-c0ed38d880d7",
   "metadata": {},
   "outputs": [
    {
     "name": "stdout",
     "output_type": "stream",
     "text": [
      "rakkabubA\n"
     ]
    }
   ],
   "source": [
    "print(s[::-1])"
   ]
  },
  {
   "cell_type": "code",
   "execution_count": 146,
   "id": "133edbcc-f017-48d4-8b39-e75eb36205ee",
   "metadata": {},
   "outputs": [
    {
     "ename": "NameError",
     "evalue": "name 's' is not defined",
     "output_type": "error",
     "traceback": [
      "\u001b[1;31m---------------------------------------------------------------------------\u001b[0m",
      "\u001b[1;31mNameError\u001b[0m                                 Traceback (most recent call last)",
      "Cell \u001b[1;32mIn[146], line 2\u001b[0m\n\u001b[0;32m      1\u001b[0m \u001b[38;5;28;01mdel\u001b[39;00m s\n\u001b[1;32m----> 2\u001b[0m \u001b[38;5;28mprint\u001b[39m(s)\n",
      "\u001b[1;31mNameError\u001b[0m: name 's' is not defined"
     ]
    }
   ],
   "source": [
    "del s\n",
    "print(s)"
   ]
  },
  {
   "cell_type": "code",
   "execution_count": 147,
   "id": "e8ef2d74-d295-4531-82fb-0229c834532c",
   "metadata": {},
   "outputs": [
    {
     "ename": "NameError",
     "evalue": "name 's' is not defined",
     "output_type": "error",
     "traceback": [
      "\u001b[1;31m---------------------------------------------------------------------------\u001b[0m",
      "\u001b[1;31mNameError\u001b[0m                                 Traceback (most recent call last)",
      "Cell \u001b[1;32mIn[147], line 1\u001b[0m\n\u001b[1;32m----> 1\u001b[0m \u001b[38;5;28mprint\u001b[39m(s)\n",
      "\u001b[1;31mNameError\u001b[0m: name 's' is not defined"
     ]
    }
   ],
   "source": [
    "print(s)"
   ]
  },
  {
   "cell_type": "code",
   "execution_count": null,
   "id": "7509d6a9-85fb-4543-80dd-025d8602489b",
   "metadata": {},
   "outputs": [],
   "source": []
  }
 ],
 "metadata": {
  "kernelspec": {
   "display_name": "Python 3 (ipykernel)",
   "language": "python",
   "name": "python3"
  },
  "language_info": {
   "codemirror_mode": {
    "name": "ipython",
    "version": 3
   },
   "file_extension": ".py",
   "mimetype": "text/x-python",
   "name": "python",
   "nbconvert_exporter": "python",
   "pygments_lexer": "ipython3",
   "version": "3.11.7"
  }
 },
 "nbformat": 4,
 "nbformat_minor": 5
}
