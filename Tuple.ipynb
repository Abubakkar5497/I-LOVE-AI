{
 "cells": [
  {
   "cell_type": "code",
   "execution_count": 1,
   "id": "2e550aee-aebf-491e-95e9-aa7920c912d2",
   "metadata": {},
   "outputs": [
    {
     "name": "stdout",
     "output_type": "stream",
     "text": [
      "(1, 'Abu', 22.1, True) <class 'tuple'>\n"
     ]
    }
   ],
   "source": [
    "# Creation of Tuple ( Heterogeneous = Different data types)\n",
    "a = (1,'Abu',22.1,True)\n",
    "print(a,type(a))"
   ]
  },
  {
   "cell_type": "code",
   "execution_count": 2,
   "id": "40e0a5e6-a443-4759-856d-02128cf157da",
   "metadata": {},
   "outputs": [
    {
     "name": "stdout",
     "output_type": "stream",
     "text": [
      "1\n"
     ]
    }
   ],
   "source": [
    "print(a[0])"
   ]
  },
  {
   "cell_type": "code",
   "execution_count": 3,
   "id": "bbaed22c-2489-431c-82e2-ca649db1c8aa",
   "metadata": {},
   "outputs": [
    {
     "name": "stdout",
     "output_type": "stream",
     "text": [
      "True\n"
     ]
    }
   ],
   "source": [
    "print(a[3])"
   ]
  },
  {
   "cell_type": "code",
   "execution_count": 4,
   "id": "b670df36-96c9-4bfd-9269-419274330003",
   "metadata": {},
   "outputs": [
    {
     "ename": "AttributeError",
     "evalue": "'tuple' object has no attribute 'append'",
     "output_type": "error",
     "traceback": [
      "\u001b[1;31m---------------------------------------------------------------------------\u001b[0m",
      "\u001b[1;31mAttributeError\u001b[0m                            Traceback (most recent call last)",
      "Cell \u001b[1;32mIn[4], line 1\u001b[0m\n\u001b[1;32m----> 1\u001b[0m a\u001b[38;5;241m.\u001b[39mappend(\u001b[38;5;124m'\u001b[39m\u001b[38;5;124mParveen\u001b[39m\u001b[38;5;124m'\u001b[39m)\n\u001b[0;32m      2\u001b[0m \u001b[38;5;28mprint\u001b[39m(a)\n",
      "\u001b[1;31mAttributeError\u001b[0m: 'tuple' object has no attribute 'append'"
     ]
    }
   ],
   "source": [
    "a.append('Parveen')\n",
    "print(a)"
   ]
  },
  {
   "cell_type": "code",
   "execution_count": 5,
   "id": "f6b17937-12de-4cfd-a2a0-1d140476a316",
   "metadata": {},
   "outputs": [
    {
     "ename": "TypeError",
     "evalue": "'tuple' object does not support item assignment",
     "output_type": "error",
     "traceback": [
      "\u001b[1;31m---------------------------------------------------------------------------\u001b[0m",
      "\u001b[1;31mTypeError\u001b[0m                                 Traceback (most recent call last)",
      "Cell \u001b[1;32mIn[5], line 1\u001b[0m\n\u001b[1;32m----> 1\u001b[0m a[\u001b[38;5;241m0\u001b[39m] \u001b[38;5;241m=\u001b[39m \u001b[38;5;241m20\u001b[39m\n\u001b[0;32m      2\u001b[0m \u001b[38;5;28mprint\u001b[39m(a)\n",
      "\u001b[1;31mTypeError\u001b[0m: 'tuple' object does not support item assignment"
     ]
    }
   ],
   "source": [
    "a[0] = 20\n",
    "print(a)"
   ]
  },
  {
   "cell_type": "code",
   "execution_count": 6,
   "id": "20e5ece5-6f6e-4d3a-ab75-1591254500e9",
   "metadata": {},
   "outputs": [
    {
     "name": "stdout",
     "output_type": "stream",
     "text": [
      "() <class 'tuple'>\n"
     ]
    }
   ],
   "source": [
    "# Creat empty tuple\n",
    "a = tuple()\n",
    "print(a,type(a))"
   ]
  },
  {
   "cell_type": "code",
   "execution_count": 7,
   "id": "bfac20f7-f8c7-4bd4-9aa3-bacda37c50e4",
   "metadata": {},
   "outputs": [
    {
     "name": "stdout",
     "output_type": "stream",
     "text": [
      "() <class 'tuple'>\n"
     ]
    }
   ],
   "source": [
    "a = ()\n",
    "print(a,type(a))"
   ]
  },
  {
   "cell_type": "code",
   "execution_count": 8,
   "id": "e57dbeb8-6957-4043-a481-019af0719a16",
   "metadata": {},
   "outputs": [
    {
     "name": "stdout",
     "output_type": "stream",
     "text": [
      "(1, 1, 1, 1, 1) <class 'tuple'>\n"
     ]
    }
   ],
   "source": [
    "# Homogeneous = same datatype\n",
    "a = (1,1,1,1,1)\n",
    "print(a,type(a))"
   ]
  },
  {
   "cell_type": "code",
   "execution_count": 9,
   "id": "7834aaf3-8eb1-40cc-8af5-4b4c967e62c5",
   "metadata": {},
   "outputs": [
    {
     "name": "stdout",
     "output_type": "stream",
     "text": [
      "('Abu', 'Abu', 'Abu', 'Abu', 'Abu') <class 'tuple'>\n"
     ]
    }
   ],
   "source": [
    "a = ('Abu','Abu','Abu','Abu','Abu')\n",
    "print(a,type(a))"
   ]
  },
  {
   "cell_type": "code",
   "execution_count": 11,
   "id": "88326f00-beaf-4666-9449-0f11c1a7878a",
   "metadata": {},
   "outputs": [
    {
     "name": "stdout",
     "output_type": "stream",
     "text": [
      "('mon', 'tue', 'wed', 'thu', 'fri', 'sat', 'sun') <class 'tuple'>\n"
     ]
    }
   ],
   "source": [
    "Days_name = tuple(['mon','tue','wed','thu','fri','sat','sun'])\n",
    "print(Days_name,type(Days_name))"
   ]
  },
  {
   "cell_type": "code",
   "execution_count": 12,
   "id": "0f100b23-1e56-49aa-88c2-2c2c4d984b09",
   "metadata": {},
   "outputs": [
    {
     "name": "stdout",
     "output_type": "stream",
     "text": [
      "('mon', 'tue', 'wed', 'thu', 'fri', 'sat', 'sun') <class 'tuple'>\n"
     ]
    }
   ],
   "source": [
    "Days_name = ('mon','tue','wed','thu','fri','sat','sun')\n",
    "print(Days_name,type(Days_name))"
   ]
  },
  {
   "cell_type": "code",
   "execution_count": 17,
   "id": "b3b9033b-7868-4a56-bd5e-a64e315033a7",
   "metadata": {},
   "outputs": [
    {
     "ename": "TypeError",
     "evalue": "tuple expected at most 1 argument, got 7",
     "output_type": "error",
     "traceback": [
      "\u001b[1;31m---------------------------------------------------------------------------\u001b[0m",
      "\u001b[1;31mTypeError\u001b[0m                                 Traceback (most recent call last)",
      "Cell \u001b[1;32mIn[17], line 1\u001b[0m\n\u001b[1;32m----> 1\u001b[0m Days_name \u001b[38;5;241m=\u001b[39m \u001b[38;5;28mtuple\u001b[39m(\u001b[38;5;124m'\u001b[39m\u001b[38;5;124mmon\u001b[39m\u001b[38;5;124m'\u001b[39m,\u001b[38;5;124m'\u001b[39m\u001b[38;5;124mtue\u001b[39m\u001b[38;5;124m'\u001b[39m,\u001b[38;5;124m'\u001b[39m\u001b[38;5;124mwed\u001b[39m\u001b[38;5;124m'\u001b[39m,\u001b[38;5;124m'\u001b[39m\u001b[38;5;124mthu\u001b[39m\u001b[38;5;124m'\u001b[39m,\u001b[38;5;124m'\u001b[39m\u001b[38;5;124mfri\u001b[39m\u001b[38;5;124m'\u001b[39m,\u001b[38;5;124m'\u001b[39m\u001b[38;5;124msat\u001b[39m\u001b[38;5;124m'\u001b[39m,\u001b[38;5;124m'\u001b[39m\u001b[38;5;124msun\u001b[39m\u001b[38;5;124m'\u001b[39m)\n\u001b[0;32m      2\u001b[0m \u001b[38;5;28mprint\u001b[39m(Days_name,\u001b[38;5;28mtype\u001b[39m(Days_name ))\n",
      "\u001b[1;31mTypeError\u001b[0m: tuple expected at most 1 argument, got 7"
     ]
    }
   ],
   "source": [
    "Days_name = tuple('mon','tue','wed','thu','fri','sat','sun')\n",
    "print(Days_name,type(Days_name ))"
   ]
  },
  {
   "cell_type": "code",
   "execution_count": 18,
   "id": "a8df7f0d-6c4b-497e-acf8-4b820e5ec54a",
   "metadata": {},
   "outputs": [
    {
     "data": {
      "text/plain": [
       "7"
      ]
     },
     "execution_count": 18,
     "metadata": {},
     "output_type": "execute_result"
    }
   ],
   "source": [
    "len(Days_name)"
   ]
  },
  {
   "cell_type": "code",
   "execution_count": 19,
   "id": "e061e33c-fdac-462a-a736-68bce986869c",
   "metadata": {},
   "outputs": [
    {
     "name": "stdout",
     "output_type": "stream",
     "text": [
      "mon\n"
     ]
    }
   ],
   "source": [
    "print(Days_name[0])"
   ]
  },
  {
   "cell_type": "code",
   "execution_count": 22,
   "id": "c37182bb-5344-4622-b737-9f7bd1d54e14",
   "metadata": {},
   "outputs": [
    {
     "data": {
      "text/plain": [
       "'mon'"
      ]
     },
     "execution_count": 22,
     "metadata": {},
     "output_type": "execute_result"
    }
   ],
   "source": [
    "Days_name[0]"
   ]
  },
  {
   "cell_type": "code",
   "execution_count": 21,
   "id": "75ace9f8-e574-4b27-8ba3-ff535ea0fb57",
   "metadata": {},
   "outputs": [
    {
     "name": "stdout",
     "output_type": "stream",
     "text": [
      "sun\n"
     ]
    }
   ],
   "source": [
    "print(Days_name[6])"
   ]
  },
  {
   "cell_type": "code",
   "execution_count": 23,
   "id": "bf770a04-fb52-48fe-9ed6-e5cf1c989a90",
   "metadata": {},
   "outputs": [
    {
     "data": {
      "text/plain": [
       "('mon', 'tue', 'wed', 'thu', 'fri', 'sat', 'sun')"
      ]
     },
     "execution_count": 23,
     "metadata": {},
     "output_type": "execute_result"
    }
   ],
   "source": [
    "Days_name[0:7]"
   ]
  },
  {
   "cell_type": "code",
   "execution_count": 24,
   "id": "60fb1cf6-10fe-47ca-b4e7-aca675127f96",
   "metadata": {},
   "outputs": [
    {
     "data": {
      "text/plain": [
       "('mon', 'wed', 'fri', 'sun')"
      ]
     },
     "execution_count": 24,
     "metadata": {},
     "output_type": "execute_result"
    }
   ],
   "source": [
    "Days_name[0:7:2]"
   ]
  },
  {
   "cell_type": "code",
   "execution_count": 25,
   "id": "e2160541-98fa-4f8a-be91-e36f0de6645b",
   "metadata": {},
   "outputs": [
    {
     "name": "stdout",
     "output_type": "stream",
     "text": [
      "(1, 2, 3, 4, 10, 20, 30, 40) <class 'tuple'>\n"
     ]
    }
   ],
   "source": [
    "a = (1,2,3,4)\n",
    "b = (10,20,30,40)\n",
    "print(a+b,type(a+b))"
   ]
  },
  {
   "cell_type": "code",
   "execution_count": 29,
   "id": "fa503d0d-5cd3-4150-8f3c-b9aad1bcdc51",
   "metadata": {},
   "outputs": [
    {
     "name": "stdout",
     "output_type": "stream",
     "text": [
      "(1, 2, 3, 4) (1, 2, 3, 4, 1, 2, 3, 4, 1, 2, 3, 4, 1, 2, 3, 4) (10, 20, 30, 40) (10, 20, 30, 40, 10, 20, 30, 40, 10, 20, 30, 40, 10, 20, 30, 40)\n"
     ]
    }
   ],
   "source": [
    "a = (1,2,3,4)\n",
    "b = (10,20,30,40)\n",
    "print(a, a*4,b, b*4)"
   ]
  },
  {
   "cell_type": "code",
   "execution_count": 30,
   "id": "19fe4896-301b-4311-b1dc-02020cf0a6dc",
   "metadata": {},
   "outputs": [
    {
     "data": {
      "text/plain": [
       "4"
      ]
     },
     "execution_count": 30,
     "metadata": {},
     "output_type": "execute_result"
    }
   ],
   "source": [
    "a[3]"
   ]
  },
  {
   "cell_type": "code",
   "execution_count": 31,
   "id": "22025026-834c-410c-afae-cccb8520a65e",
   "metadata": {},
   "outputs": [
    {
     "ename": "IndexError",
     "evalue": "tuple index out of range",
     "output_type": "error",
     "traceback": [
      "\u001b[1;31m---------------------------------------------------------------------------\u001b[0m",
      "\u001b[1;31mIndexError\u001b[0m                                Traceback (most recent call last)",
      "Cell \u001b[1;32mIn[31], line 1\u001b[0m\n\u001b[1;32m----> 1\u001b[0m a[\u001b[38;5;241m5\u001b[39m]\n",
      "\u001b[1;31mIndexError\u001b[0m: tuple index out of range"
     ]
    }
   ],
   "source": [
    "a[5]"
   ]
  },
  {
   "cell_type": "code",
   "execution_count": 32,
   "id": "f67e6373-1dc4-4d00-a084-39ea778bc2d8",
   "metadata": {},
   "outputs": [
    {
     "name": "stdout",
     "output_type": "stream",
     "text": [
      "(1, 2, 3, 4, 1, 2, 3, 4)\n",
      "2\n"
     ]
    }
   ],
   "source": [
    "# Usage of Operators\n",
    "b = a*2\n",
    "print(b)\n",
    "print(b[5])"
   ]
  },
  {
   "cell_type": "code",
   "execution_count": 35,
   "id": "08138de2-1049-4fd0-831e-dc2e84f1ad57",
   "metadata": {},
   "outputs": [
    {
     "name": "stdout",
     "output_type": "stream",
     "text": [
      "(1, 2, 3, 4, 1, 2, 3, 4, 1, 2, 3, 4, 1, 2, 3, 4, 1, 2, 3, 4, 1, 2, 3, 4, 1, 2, 3, 4, 1, 2, 3, 4, 1, 2, 3, 4, 1, 2, 3, 4, 1, 2, 3, 4, 1, 2, 3, 4, 1, 2, 3, 4, 1, 2, 3, 4, 1, 2, 3, 4, 1, 2, 3, 4, 1, 2, 3, 4, 1, 2, 3, 4, 1, 2, 3, 4, 1, 2, 3, 4, 1, 2, 3, 4, 1, 2, 3, 4, 1, 2, 3, 4, 1, 2, 3, 4, 1, 2, 3, 4, 1, 2, 3, 4, 1, 2, 3, 4, 1, 2, 3, 4, 1, 2, 3, 4, 1, 2, 3, 4, 1, 2, 3, 4, 1, 2, 3, 4, 1, 2, 3, 4, 1, 2, 3, 4, 1, 2, 3, 4, 1, 2, 3, 4, 1, 2, 3, 4, 1, 2, 3, 4, 1, 2, 3, 4, 1, 2, 3, 4, 1, 2, 3, 4, 1, 2, 3, 4, 1, 2, 3, 4, 1, 2, 3, 4, 1, 2, 3, 4, 1, 2, 3, 4, 1, 2, 3, 4, 1, 2, 3, 4, 1, 2, 3, 4, 1, 2, 3, 4) <class 'tuple'>\n"
     ]
    }
   ],
   "source": [
    "c = a*50\n",
    "print(c,type(c))"
   ]
  },
  {
   "cell_type": "code",
   "execution_count": 36,
   "id": "a3a259da-a275-49d3-9f33-f995a34688f5",
   "metadata": {},
   "outputs": [
    {
     "name": "stdout",
     "output_type": "stream",
     "text": [
      "(1, 2, 3, 4, 1, 2, 3, 4, 1, 2, 3, 4, 1, 2, 3, 4, 1, 2, 3, 4, 1, 2, 3, 4, 1, 2, 3, 4, 1, 2, 3, 4, 1, 2, 3, 4, 1, 2, 3, 4, 1, 2, 3, 4, 1, 2, 3, 4, 1, 2, 3, 4, 1, 2, 3, 4, 1, 2, 3, 4, 1, 2, 3, 4, 1, 2, 3, 4, 1, 2, 3, 4, 1, 2, 3, 4, 1, 2, 3, 4, 1, 2, 3, 4, 1, 2, 3, 4, 1, 2, 3, 4, 1, 2, 3, 4, 1, 2, 3, 4, 1, 2, 3, 4, 1, 2, 3, 4, 1, 2, 3, 4, 1, 2, 3, 4, 1, 2, 3, 4, 1, 2, 3, 4, 1, 2, 3, 4, 1, 2, 3, 4, 1, 2, 3, 4, 1, 2, 3, 4, 1, 2, 3, 4, 1, 2, 3, 4, 1, 2, 3, 4, 1, 2, 3, 4, 1, 2, 3, 4, 1, 2, 3, 4, 1, 2, 3, 4, 1, 2, 3, 4, 1, 2, 3, 4, 1, 2, 3, 4, 1, 2, 3, 4, 1, 2, 3, 4, 1, 2, 3, 4, 1, 2, 3, 4, 1, 2, 3, 4) 200 <class 'tuple'>\n"
     ]
    }
   ],
   "source": [
    "print(c,len(c),type(c))"
   ]
  },
  {
   "cell_type": "code",
   "execution_count": 37,
   "id": "29aa0ca9-9fac-425d-89a3-f613be3b0719",
   "metadata": {},
   "outputs": [
    {
     "name": "stdout",
     "output_type": "stream",
     "text": [
      "(1, 2, 3, 4)\n"
     ]
    }
   ],
   "source": [
    "print(a)"
   ]
  },
  {
   "cell_type": "code",
   "execution_count": 38,
   "id": "ba0d4770-7676-4fde-b2aa-25abeb96a1d8",
   "metadata": {},
   "outputs": [
    {
     "name": "stdout",
     "output_type": "stream",
     "text": [
      "(1, 2, 3, 4, 1, 2, 3, 4, 1, 2, 3, 4, 1, 2, 3, 4, 1, 2, 3, 4, 1, 2, 3, 4, 1, 2, 3, 4, 1, 2, 3, 4, 1, 2, 3, 4, 1, 2, 3, 4, 1, 2, 3, 4, 1, 2, 3, 4, 1, 2, 3, 4, 1, 2, 3, 4, 1, 2, 3, 4, 1, 2, 3, 4, 1, 2, 3, 4, 1, 2, 3, 4, 1, 2, 3, 4, 1, 2, 3, 4, 1, 2, 3, 4, 1, 2, 3, 4, 1, 2, 3, 4, 1, 2, 3, 4, 1, 2, 3, 4, 1, 2, 3, 4, 1, 2, 3, 4, 1, 2, 3, 4, 1, 2, 3, 4, 1, 2, 3, 4, 1, 2, 3, 4, 1, 2, 3, 4, 1, 2, 3, 4, 1, 2, 3, 4, 1, 2, 3, 4, 1, 2, 3, 4, 1, 2, 3, 4, 1, 2, 3, 4, 1, 2, 3, 4, 1, 2, 3, 4, 1, 2, 3, 4, 1, 2, 3, 4, 1, 2, 3, 4, 1, 2, 3, 4, 1, 2, 3, 4, 1, 2, 3, 4, 1, 2, 3, 4, 1, 2, 3, 4, 1, 2, 3, 4, 1, 2, 3, 4)\n"
     ]
    }
   ],
   "source": [
    "print(c)"
   ]
  },
  {
   "cell_type": "code",
   "execution_count": 41,
   "id": "b2c949c8-66c4-4d47-8a33-52db03ee424d",
   "metadata": {},
   "outputs": [
    {
     "name": "stdout",
     "output_type": "stream",
     "text": [
      "(3, 4, 1, 2, 3, 4, 1, 2, 3, 4, 1, 2, 3, 4, 1, 2, 3, 4, 1, 2, 3, 4, 1, 2, 3, 4, 1, 2, 3, 4, 1, 2, 3, 4, 1, 2, 3, 4, 1, 2, 3, 4, 1, 2, 3, 4, 1, 2) 200\n"
     ]
    }
   ],
   "source": [
    "# [start:stop:step]\n",
    "print(c[2:50],len(c))"
   ]
  },
  {
   "cell_type": "code",
   "execution_count": 40,
   "id": "1b9c6094-47b7-4223-8476-e02feecaa44b",
   "metadata": {},
   "outputs": [
    {
     "data": {
      "text/plain": [
       "200"
      ]
     },
     "execution_count": 40,
     "metadata": {},
     "output_type": "execute_result"
    }
   ],
   "source": [
    "len(c)"
   ]
  },
  {
   "cell_type": "code",
   "execution_count": 42,
   "id": "ab458f06-1d27-4c50-89e0-6c2a6e3a2a2c",
   "metadata": {},
   "outputs": [
    {
     "name": "stdout",
     "output_type": "stream",
     "text": [
      "(3, 4, 1, 2, 3, 4, 1, 2, 3, 4, 1, 2, 3, 4, 1, 2, 3, 4, 1, 2, 3, 4, 1, 2, 3, 4, 1, 2, 3, 4, 1, 2, 3, 4, 1, 2, 3, 4, 1, 2, 3, 4, 1, 2, 3, 4, 1, 2)\n"
     ]
    }
   ],
   "source": [
    "d = c[2:50]\n",
    "print(d)"
   ]
  },
  {
   "cell_type": "code",
   "execution_count": 43,
   "id": "7f20922a-1aca-4591-89a0-9a14d422288a",
   "metadata": {},
   "outputs": [
    {
     "data": {
      "text/plain": [
       "48"
      ]
     },
     "execution_count": 43,
     "metadata": {},
     "output_type": "execute_result"
    }
   ],
   "source": [
    "len(d)"
   ]
  },
  {
   "cell_type": "code",
   "execution_count": 49,
   "id": "ea609417-6893-485a-9ada-58424512840f",
   "metadata": {},
   "outputs": [
    {
     "name": "stdout",
     "output_type": "stream",
     "text": [
      "(1, 2, 3, 4, 1, 2, 3, 4, 1, 2, 3, 4, 1, 2, 3, 4, 1, 2, 3, 4, 1, 2, 3)\n"
     ]
    }
   ],
   "source": [
    "print(c[0:200:9])"
   ]
  },
  {
   "cell_type": "code",
   "execution_count": 50,
   "id": "50287b24-1ebb-43f4-ae9f-2c1beaca2ba1",
   "metadata": {},
   "outputs": [
    {
     "name": "stdout",
     "output_type": "stream",
     "text": [
      "(1, 3, 1, 3, 1, 3, 1, 3, 1, 3, 1, 3, 1, 3, 1, 3, 1, 3, 1, 3)\n"
     ]
    }
   ],
   "source": [
    "print(c[0::10])"
   ]
  },
  {
   "cell_type": "code",
   "execution_count": 51,
   "id": "69a69cf2-4b49-431a-8be3-21f7fd247d2c",
   "metadata": {},
   "outputs": [
    {
     "name": "stdout",
     "output_type": "stream",
     "text": [
      "(1, 3, 1, 3, 1, 3, 1, 3, 1, 3, 1, 3, 1, 3, 1, 3, 1, 3, 1, 3)\n"
     ]
    }
   ],
   "source": [
    "print(c[0:200:10])"
   ]
  },
  {
   "cell_type": "code",
   "execution_count": 52,
   "id": "c5963c66-21b8-44bf-aecc-07fb755e5c9b",
   "metadata": {},
   "outputs": [
    {
     "data": {
      "text/plain": [
       "50"
      ]
     },
     "execution_count": 52,
     "metadata": {},
     "output_type": "execute_result"
    }
   ],
   "source": [
    "c.count(3)"
   ]
  },
  {
   "cell_type": "code",
   "execution_count": 53,
   "id": "de88376b-556b-484e-adc9-960cd10c2002",
   "metadata": {},
   "outputs": [
    {
     "data": {
      "text/plain": [
       "50"
      ]
     },
     "execution_count": 53,
     "metadata": {},
     "output_type": "execute_result"
    }
   ],
   "source": [
    "c.count(1)"
   ]
  },
  {
   "cell_type": "code",
   "execution_count": 54,
   "id": "86472eae-e527-4661-b065-fdf0a173dd49",
   "metadata": {},
   "outputs": [
    {
     "name": "stdout",
     "output_type": "stream",
     "text": [
      "True\n"
     ]
    }
   ],
   "source": [
    "a = (1,2,3,4)\n",
    "print(2 in a)"
   ]
  },
  {
   "cell_type": "code",
   "execution_count": 55,
   "id": "b45c7223-6614-4e2f-b150-51ab89464671",
   "metadata": {},
   "outputs": [
    {
     "name": "stdout",
     "output_type": "stream",
     "text": [
      "False\n"
     ]
    }
   ],
   "source": [
    "print(5 in a)"
   ]
  },
  {
   "cell_type": "code",
   "execution_count": 56,
   "id": "99068f25-8613-474b-b1cc-e1ef3566c1e0",
   "metadata": {},
   "outputs": [
    {
     "name": "stdout",
     "output_type": "stream",
     "text": [
      "('Abu', 1997, ' Rep') <class 'tuple'>\n"
     ]
    }
   ],
   "source": [
    "# UNPACKING\n",
    "person = ('Abu',1997, ' Rep')\n",
    "print(person,type(person))"
   ]
  },
  {
   "cell_type": "code",
   "execution_count": 58,
   "id": "92e4473c-decb-46bd-b1f1-58a60d0254ec",
   "metadata": {},
   "outputs": [
    {
     "name": "stdout",
     "output_type": "stream",
     "text": [
      "Abu 1997  Rep\n",
      "<class 'str'> <class 'int'> <class 'str'> <class 'tuple'>\n"
     ]
    }
   ],
   "source": [
    "# UNPACKING COLLECTION ELEMENTS\n",
    "name,eid,position = person\n",
    "print(name,eid,position)\n",
    "print(type(name),type(eid),type(position),type(person))"
   ]
  },
  {
   "cell_type": "code",
   "execution_count": 59,
   "id": "9e419d97-6606-4a5d-8b61-7dda59acff42",
   "metadata": {},
   "outputs": [
    {
     "name": "stdout",
     "output_type": "stream",
     "text": [
      "Abu India 1997 Married 5.7 46000\n",
      "<class 'str'> <class 'str'> <class 'int'> <class 'str'> <class 'float'> <class 'int'>\n"
     ]
    }
   ],
   "source": [
    "My_data = ('Abu','India',1997,'Married',5.7,46000)\n",
    "name,nationality,year,status,hight,salary = My_data\n",
    "print(name,nationality,year,status,hight,salary )\n",
    "print(type(name),type(nationality),type(year),type(status),type(hight),type(salary)) "
   ]
  },
  {
   "cell_type": "code",
   "execution_count": 60,
   "id": "eaa8e63d-5ec0-4458-bfc9-1444478f3ce2",
   "metadata": {},
   "outputs": [
    {
     "name": "stdout",
     "output_type": "stream",
     "text": [
      "Abu\n",
      "India\n",
      "46000\n"
     ]
    }
   ],
   "source": [
    "print(name)\n",
    "print(nationality)\n",
    "print(salary)"
   ]
  },
  {
   "cell_type": "code",
   "execution_count": 63,
   "id": "22d5658d-e2e2-4d6f-a707-73f2fbbdb6dd",
   "metadata": {},
   "outputs": [
    {
     "name": "stdout",
     "output_type": "stream",
     "text": [
      "Abu India 1997 Married 5.7 46000\n"
     ]
    }
   ],
   "source": [
    "print(*My_data)"
   ]
  },
  {
   "cell_type": "code",
   "execution_count": 3,
   "id": "3a2a52f4-de27-4abf-9d06-cf6e7aacc490",
   "metadata": {},
   "outputs": [
    {
     "name": "stdout",
     "output_type": "stream",
     "text": [
      "Abu\n",
      "India\n",
      "46000\n",
      "Abu India 1997 Married 5.7 46000\n"
     ]
    }
   ],
   "source": [
    "My_data = ('Abu','India',1997,'Married',5.7,46000)\n",
    "name,nationality,year,status,hight,salary = My_data\n",
    "print(name)\n",
    "print(nationality)\n",
    "print(salary)\n",
    "print(*My_data)"
   ]
  },
  {
   "cell_type": "code",
   "execution_count": null,
   "id": "6cae7d6d-65b1-4b2c-bccf-fa45b079b192",
   "metadata": {},
   "outputs": [],
   "source": []
  }
 ],
 "metadata": {
  "kernelspec": {
   "display_name": "Python 3 (ipykernel)",
   "language": "python",
   "name": "python3"
  },
  "language_info": {
   "codemirror_mode": {
    "name": "ipython",
    "version": 3
   },
   "file_extension": ".py",
   "mimetype": "text/x-python",
   "name": "python",
   "nbconvert_exporter": "python",
   "pygments_lexer": "ipython3",
   "version": "3.11.7"
  }
 },
 "nbformat": 4,
 "nbformat_minor": 5
}
